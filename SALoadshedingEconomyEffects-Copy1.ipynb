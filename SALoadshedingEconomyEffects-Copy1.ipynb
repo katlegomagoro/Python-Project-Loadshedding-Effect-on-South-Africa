{
 "cells": [
  {
   "cell_type": "markdown",
   "id": "01c9b41d",
   "metadata": {},
   "source": [
    "# Loadshedding Impact on South African Economy"
   ]
  },
  {
   "cell_type": "code",
   "execution_count": 2,
   "id": "4cfc52e9",
   "metadata": {},
   "outputs": [],
   "source": [
    "# importing libraries\n",
    "import pandas as pd\n",
    "import numpy as np\n",
    "import seaborn as sns\n",
    "import matplotlib.pyplot as plt\n",
    "import pandas_datareader.data as web\n",
    "\n",
    "from pandas_datareader import data\n",
    "from datetime import date, datetime, time, timezone"
   ]
  },
  {
   "cell_type": "markdown",
   "id": "20e1b5d5",
   "metadata": {},
   "source": [
    "## Number of Loadshedding Hours Per Year"
   ]
  },
  {
   "cell_type": "code",
   "execution_count": 3,
   "id": "b8a956ba",
   "metadata": {},
   "outputs": [
    {
     "data": {
      "text/html": [
       "<div>\n",
       "<style scoped>\n",
       "    .dataframe tbody tr th:only-of-type {\n",
       "        vertical-align: middle;\n",
       "    }\n",
       "\n",
       "    .dataframe tbody tr th {\n",
       "        vertical-align: top;\n",
       "    }\n",
       "\n",
       "    .dataframe thead th {\n",
       "        text-align: right;\n",
       "    }\n",
       "</style>\n",
       "<table border=\"1\" class=\"dataframe\">\n",
       "  <thead>\n",
       "    <tr style=\"text-align: right;\">\n",
       "      <th></th>\n",
       "      <th>YEAR</th>\n",
       "      <th>Duration of outages (hours)</th>\n",
       "    </tr>\n",
       "  </thead>\n",
       "  <tbody>\n",
       "    <tr>\n",
       "      <th>0</th>\n",
       "      <td>2008</td>\n",
       "      <td>476</td>\n",
       "    </tr>\n",
       "    <tr>\n",
       "      <th>1</th>\n",
       "      <td>2009</td>\n",
       "      <td>0</td>\n",
       "    </tr>\n",
       "    <tr>\n",
       "      <th>2</th>\n",
       "      <td>2010</td>\n",
       "      <td>0</td>\n",
       "    </tr>\n",
       "    <tr>\n",
       "      <th>3</th>\n",
       "      <td>2011</td>\n",
       "      <td>0</td>\n",
       "    </tr>\n",
       "    <tr>\n",
       "      <th>4</th>\n",
       "      <td>2012</td>\n",
       "      <td>0</td>\n",
       "    </tr>\n",
       "    <tr>\n",
       "      <th>5</th>\n",
       "      <td>2013</td>\n",
       "      <td>0</td>\n",
       "    </tr>\n",
       "    <tr>\n",
       "      <th>6</th>\n",
       "      <td>2014</td>\n",
       "      <td>203</td>\n",
       "    </tr>\n",
       "    <tr>\n",
       "      <th>7</th>\n",
       "      <td>2015</td>\n",
       "      <td>1325</td>\n",
       "    </tr>\n",
       "    <tr>\n",
       "      <th>8</th>\n",
       "      <td>2016</td>\n",
       "      <td>0</td>\n",
       "    </tr>\n",
       "    <tr>\n",
       "      <th>9</th>\n",
       "      <td>2017</td>\n",
       "      <td>0</td>\n",
       "    </tr>\n",
       "    <tr>\n",
       "      <th>10</th>\n",
       "      <td>2018</td>\n",
       "      <td>127</td>\n",
       "    </tr>\n",
       "    <tr>\n",
       "      <th>11</th>\n",
       "      <td>2019</td>\n",
       "      <td>530</td>\n",
       "    </tr>\n",
       "    <tr>\n",
       "      <th>12</th>\n",
       "      <td>2020</td>\n",
       "      <td>859</td>\n",
       "    </tr>\n",
       "    <tr>\n",
       "      <th>13</th>\n",
       "      <td>2021</td>\n",
       "      <td>1136</td>\n",
       "    </tr>\n",
       "  </tbody>\n",
       "</table>\n",
       "</div>"
      ],
      "text/plain": [
       "    YEAR  Duration of outages (hours)\n",
       "0   2008                          476\n",
       "1   2009                            0\n",
       "2   2010                            0\n",
       "3   2011                            0\n",
       "4   2012                            0\n",
       "5   2013                            0\n",
       "6   2014                          203\n",
       "7   2015                         1325\n",
       "8   2016                            0\n",
       "9   2017                            0\n",
       "10  2018                          127\n",
       "11  2019                          530\n",
       "12  2020                          859\n",
       "13  2021                         1136"
      ]
     },
     "execution_count": 3,
     "metadata": {},
     "output_type": "execute_result"
    }
   ],
   "source": [
    "#Creating a  south african loadshedding database dataframe using excel file\n",
    "df = pd.read_excel('SALoadsheddinghours.xlsx')\n",
    "df"
   ]
  },
  {
   "cell_type": "code",
   "execution_count": 4,
   "id": "cf026671",
   "metadata": {},
   "outputs": [
    {
     "data": {
      "image/png": "[encoded data removed]",
      "text/plain": [
       "<Figure size 432x288 with 1 Axes>"
      ]
     },
     "metadata": {
      "needs_background": "light"
     },
     "output_type": "display_data"
    }
   ],
   "source": [
    "# plot graph to show the Data\n",
    "plt.bar(df['YEAR'], df['Duration of outages (hours)'], color=['red', 'blue', 'green', 'yellow', 'orange'])\n",
    "plt.xlabel('YEAR')\n",
    "plt.ylabel('Duration of outages (hours)')\n",
    "plt.title('South African Loadshedding Hours Per Year')\n",
    "\n",
    "#show\n",
    "plt.show()"
   ]
  },
  {
   "cell_type": "markdown",
   "id": "d5b9e781",
   "metadata": {},
   "source": [
    "##### Loadshedding Data  Trands show that from 2009 to 2014 there was no Loadshedding and from 2015 to 2021 there was Frequent Hours of Loadshedding, Based on this we will Classify 2008 to 2014 as No Loadsheding Years and 2015 to 2021 as Loadsheding Years."
   ]
  },
  {
   "cell_type": "markdown",
   "id": "0cf6d5db",
   "metadata": {},
   "source": [
    "## South African Foreign Direct Investment Inflow from 2008 to 2021"
   ]
  },
  {
   "cell_type": "code",
   "execution_count": 5,
   "id": "7e9a4970",
   "metadata": {},
   "outputs": [
    {
     "data": {
      "text/html": [
       "<div>\n",
       "<style scoped>\n",
       "    .dataframe tbody tr th:only-of-type {\n",
       "        vertical-align: middle;\n",
       "    }\n",
       "\n",
       "    .dataframe tbody tr th {\n",
       "        vertical-align: top;\n",
       "    }\n",
       "\n",
       "    .dataframe thead th {\n",
       "        text-align: right;\n",
       "    }\n",
       "</style>\n",
       "<table border=\"1\" class=\"dataframe\">\n",
       "  <thead>\n",
       "    <tr style=\"text-align: right;\">\n",
       "      <th></th>\n",
       "      <th>YEAR</th>\n",
       "      <th>SA FDI net flow</th>\n",
       "    </tr>\n",
       "  </thead>\n",
       "  <tbody>\n",
       "    <tr>\n",
       "      <th>0</th>\n",
       "      <td>2008</td>\n",
       "      <td>83648.790973</td>\n",
       "    </tr>\n",
       "    <tr>\n",
       "      <th>1</th>\n",
       "      <td>2009</td>\n",
       "      <td>138750.813008</td>\n",
       "    </tr>\n",
       "    <tr>\n",
       "      <th>2</th>\n",
       "      <td>2010</td>\n",
       "      <td>179564.810905</td>\n",
       "    </tr>\n",
       "    <tr>\n",
       "      <th>3</th>\n",
       "      <td>2011</td>\n",
       "      <td>159390.143561</td>\n",
       "    </tr>\n",
       "    <tr>\n",
       "      <th>4</th>\n",
       "      <td>2012</td>\n",
       "      <td>163510.113338</td>\n",
       "    </tr>\n",
       "    <tr>\n",
       "      <th>5</th>\n",
       "      <td>2013</td>\n",
       "      <td>152123.471148</td>\n",
       "    </tr>\n",
       "    <tr>\n",
       "      <th>6</th>\n",
       "      <td>2014</td>\n",
       "      <td>138905.611826</td>\n",
       "    </tr>\n",
       "    <tr>\n",
       "      <th>7</th>\n",
       "      <td>2015</td>\n",
       "      <td>126755.484078</td>\n",
       "    </tr>\n",
       "    <tr>\n",
       "      <th>8</th>\n",
       "      <td>2016</td>\n",
       "      <td>135453.525717</td>\n",
       "    </tr>\n",
       "    <tr>\n",
       "      <th>9</th>\n",
       "      <td>2017</td>\n",
       "      <td>156353.022503</td>\n",
       "    </tr>\n",
       "    <tr>\n",
       "      <th>10</th>\n",
       "      <td>2018</td>\n",
       "      <td>138561.569261</td>\n",
       "    </tr>\n",
       "    <tr>\n",
       "      <th>11</th>\n",
       "      <td>2019</td>\n",
       "      <td>145246.481362</td>\n",
       "    </tr>\n",
       "    <tr>\n",
       "      <th>12</th>\n",
       "      <td>2020</td>\n",
       "      <td>133126.555019</td>\n",
       "    </tr>\n",
       "    <tr>\n",
       "      <th>13</th>\n",
       "      <td>2021</td>\n",
       "      <td>173055.501097</td>\n",
       "    </tr>\n",
       "  </tbody>\n",
       "</table>\n",
       "</div>"
      ],
      "text/plain": [
       "    YEAR  SA FDI net flow\n",
       "0   2008     83648.790973\n",
       "1   2009    138750.813008\n",
       "2   2010    179564.810905\n",
       "3   2011    159390.143561\n",
       "4   2012    163510.113338\n",
       "5   2013    152123.471148\n",
       "6   2014    138905.611826\n",
       "7   2015    126755.484078\n",
       "8   2016    135453.525717\n",
       "9   2017    156353.022503\n",
       "10  2018    138561.569261\n",
       "11  2019    145246.481362\n",
       "12  2020    133126.555019\n",
       "13  2021    173055.501097"
      ]
     },
     "execution_count": 5,
     "metadata": {},
     "output_type": "execute_result"
    }
   ],
   "source": [
    "#privoting the Data to show only the Years and FDA Net Inflow\n",
    "df = pd.read_excel('SAFDI.xlsx')\n",
    "df = df[['YEAR','US dollars at current prices in millions']]\n",
    "df.columns = ['YEAR', 'SA FDI net flow']\n",
    "df"
   ]
  },
  {
   "cell_type": "code",
   "execution_count": 6,
   "id": "6481ebac",
   "metadata": {},
   "outputs": [
    {
     "data": {
      "image/png": "[encoded data removed]",
      "text/plain": [
       "<Figure size 432x288 with 1 Axes>"
      ]
     },
     "metadata": {
      "needs_background": "light"
     },
     "output_type": "display_data"
    }
   ],
   "source": [
    "#creating a Line Grapth to show the Trands of the Data\n",
    "df = pd.read_excel('SAFDI.xlsx')\n",
    "df = df[['YEAR','US dollars at current prices in millions']]\n",
    "df.columns = ['YEAR', 'SA FDI net flow']\n",
    "\n",
    "# plot line graph\n",
    "plt.plot(df['YEAR'], df['SA FDI net flow'])\n",
    "plt.xlabel('Year')\n",
    "plt.ylabel('SA FDI net flow')\n",
    "plt.title('South African FDI net inflow over time')\n",
    "plt.show()\n",
    "\n",
    "# show plot\n",
    "plt.show()"
   ]
  },
  {
   "cell_type": "markdown",
   "id": "27f92b3d",
   "metadata": {},
   "source": [
    "##### The Line Grapth shows a decrese in FDI from 2010, in 2016 there are some Increses  of FDI but dont reach the 2010 Rate."
   ]
  },
  {
   "cell_type": "markdown",
   "id": "71a53493",
   "metadata": {},
   "source": [
    "### Foreign Direct Investment(FDA) Inflow Comparrsion Between Before and After Loadshedding Years."
   ]
  },
  {
   "cell_type": "code",
   "execution_count": 7,
   "id": "04d09b27",
   "metadata": {},
   "outputs": [
    {
     "data": {
      "image/png": "[encoded data removed]",
      "text/plain": [
       "<Figure size 432x288 with 1 Axes>"
      ]
     },
     "metadata": {
      "needs_background": "light"
     },
     "output_type": "display_data"
    }
   ],
   "source": [
    "#Dataframe 1 for AfterLoadshedding years\n",
    "df1 = pd.read_excel('SAbeforeL.xlsx')\n",
    "df1 = df1[['YEAR','US dollars at current prices in millions']]\n",
    "df1.columns = ['YEAR', 'SA FDI net flow']\n",
    "\n",
    "#Dataframe 2 for AfterLoadshedding years\n",
    "df2 = pd.read_excel('SAafterL.xlsx')\n",
    "df2 = df2[['YEAR','US dollars at current prices in millions']]\n",
    "df2.columns = ['YEAR', 'SA FDI net flow']\n",
    "\n",
    "#plotting the Grapth\n",
    "plt.bar(df1['YEAR'], df1['SA FDI net flow'], label='Before Loadshedding Years')\n",
    "plt.bar(df2['YEAR'], df2['SA FDI net flow'], label='During Loadshedding Years')\n",
    "plt.xlabel('Year')\n",
    "plt.ylabel('SA FDI net flow')\n",
    "plt.title('Direct Foreign Investment in South Africa from 2008-2021')\n",
    "plt.legend()\n",
    "plt.show()"
   ]
  },
  {
   "cell_type": "markdown",
   "id": "9e94c81a",
   "metadata": {},
   "source": [
    "##### The Data Trands shows that the FDI in Before Loadsheding years is Higher Than the Loadshedding Years"
   ]
  },
  {
   "cell_type": "markdown",
   "id": "7a6f0840",
   "metadata": {},
   "source": [
    "## South African Infalation Rate from 2008 to 2021"
   ]
  },
  {
   "cell_type": "code",
   "execution_count": 8,
   "id": "c2c1c5e4",
   "metadata": {},
   "outputs": [
    {
     "data": {
      "text/html": [
       "<div>\n",
       "<style scoped>\n",
       "    .dataframe tbody tr th:only-of-type {\n",
       "        vertical-align: middle;\n",
       "    }\n",
       "\n",
       "    .dataframe tbody tr th {\n",
       "        vertical-align: top;\n",
       "    }\n",
       "\n",
       "    .dataframe thead th {\n",
       "        text-align: right;\n",
       "    }\n",
       "</style>\n",
       "<table border=\"1\" class=\"dataframe\">\n",
       "  <thead>\n",
       "    <tr style=\"text-align: right;\">\n",
       "      <th></th>\n",
       "      <th>Country</th>\n",
       "      <th>Year</th>\n",
       "      <th>Inflation_annual_cpi</th>\n",
       "    </tr>\n",
       "  </thead>\n",
       "  <tbody>\n",
       "    <tr>\n",
       "      <th>0</th>\n",
       "      <td>South Africa</td>\n",
       "      <td>2014</td>\n",
       "      <td>6.1040</td>\n",
       "    </tr>\n",
       "    <tr>\n",
       "      <th>1</th>\n",
       "      <td>South Africa</td>\n",
       "      <td>2015</td>\n",
       "      <td>4.5882</td>\n",
       "    </tr>\n",
       "    <tr>\n",
       "      <th>2</th>\n",
       "      <td>South Africa</td>\n",
       "      <td>2016</td>\n",
       "      <td>6.3330</td>\n",
       "    </tr>\n",
       "    <tr>\n",
       "      <th>3</th>\n",
       "      <td>South Africa</td>\n",
       "      <td>2017</td>\n",
       "      <td>5.2783</td>\n",
       "    </tr>\n",
       "    <tr>\n",
       "      <th>4</th>\n",
       "      <td>South Africa</td>\n",
       "      <td>2018</td>\n",
       "      <td>4.6121</td>\n",
       "    </tr>\n",
       "    <tr>\n",
       "      <th>5</th>\n",
       "      <td>South Africa</td>\n",
       "      <td>2019</td>\n",
       "      <td>4.1200</td>\n",
       "    </tr>\n",
       "    <tr>\n",
       "      <th>6</th>\n",
       "      <td>South Africa</td>\n",
       "      <td>2020</td>\n",
       "      <td>3.2700</td>\n",
       "    </tr>\n",
       "    <tr>\n",
       "      <th>7</th>\n",
       "      <td>South Africa</td>\n",
       "      <td>2021</td>\n",
       "      <td>4.5440</td>\n",
       "    </tr>\n",
       "  </tbody>\n",
       "</table>\n",
       "</div>"
      ],
      "text/plain": [
       "       Country   Year  Inflation_annual_cpi\n",
       "0  South Africa  2014                6.1040\n",
       "1  South Africa  2015                4.5882\n",
       "2  South Africa  2016                6.3330\n",
       "3  South Africa  2017                5.2783\n",
       "4  South Africa  2018                4.6121\n",
       "5  South Africa  2019                4.1200\n",
       "6  South Africa  2020                3.2700\n",
       "7  South Africa  2021                4.5440"
      ]
     },
     "execution_count": 8,
     "metadata": {},
     "output_type": "execute_result"
    }
   ],
   "source": [
    "#Creating a south Unemployment Rate dataframe using excel file\n",
    "df = pd.read_excel('Annual inflation.xlsx')\n",
    "df"
   ]
  },
  {
   "cell_type": "code",
   "execution_count": 9,
   "id": "3530ba1a",
   "metadata": {},
   "outputs": [
    {
     "data": {
      "text/html": [
       "<div>\n",
       "<style scoped>\n",
       "    .dataframe tbody tr th:only-of-type {\n",
       "        vertical-align: middle;\n",
       "    }\n",
       "\n",
       "    .dataframe tbody tr th {\n",
       "        vertical-align: top;\n",
       "    }\n",
       "\n",
       "    .dataframe thead th {\n",
       "        text-align: right;\n",
       "    }\n",
       "</style>\n",
       "<table border=\"1\" class=\"dataframe\">\n",
       "  <thead>\n",
       "    <tr style=\"text-align: right;\">\n",
       "      <th></th>\n",
       "      <th>Year</th>\n",
       "      <th>Inflation_annual_cpi</th>\n",
       "    </tr>\n",
       "  </thead>\n",
       "  <tbody>\n",
       "    <tr>\n",
       "      <th>0</th>\n",
       "      <td>2014</td>\n",
       "      <td>6.1040</td>\n",
       "    </tr>\n",
       "    <tr>\n",
       "      <th>1</th>\n",
       "      <td>2015</td>\n",
       "      <td>4.5882</td>\n",
       "    </tr>\n",
       "    <tr>\n",
       "      <th>2</th>\n",
       "      <td>2016</td>\n",
       "      <td>6.3330</td>\n",
       "    </tr>\n",
       "    <tr>\n",
       "      <th>3</th>\n",
       "      <td>2017</td>\n",
       "      <td>5.2783</td>\n",
       "    </tr>\n",
       "    <tr>\n",
       "      <th>4</th>\n",
       "      <td>2018</td>\n",
       "      <td>4.6121</td>\n",
       "    </tr>\n",
       "    <tr>\n",
       "      <th>5</th>\n",
       "      <td>2019</td>\n",
       "      <td>4.1200</td>\n",
       "    </tr>\n",
       "    <tr>\n",
       "      <th>6</th>\n",
       "      <td>2020</td>\n",
       "      <td>3.2700</td>\n",
       "    </tr>\n",
       "    <tr>\n",
       "      <th>7</th>\n",
       "      <td>2021</td>\n",
       "      <td>4.5440</td>\n",
       "    </tr>\n",
       "  </tbody>\n",
       "</table>\n",
       "</div>"
      ],
      "text/plain": [
       "   Year  Inflation_annual_cpi\n",
       "0  2014                6.1040\n",
       "1  2015                4.5882\n",
       "2  2016                6.3330\n",
       "3  2017                5.2783\n",
       "4  2018                4.6121\n",
       "5  2019                4.1200\n",
       "6  2020                3.2700\n",
       "7  2021                4.5440"
      ]
     },
     "execution_count": 9,
     "metadata": {},
     "output_type": "execute_result"
    }
   ],
   "source": [
    "#privoting the Data to show only the Years and FDA Net Inflow\n",
    "df = pd.read_excel('Annual inflation.xlsx')\n",
    "df = df[['Year','Inflation_annual_cpi']]\n",
    "df.columns = ['Year', 'Inflation_annual_cpi']\n",
    "df"
   ]
  },
  {
   "cell_type": "markdown",
   "id": "003e9568",
   "metadata": {},
   "source": [
    "### South African Inflation Rate Before Loadsheding Years"
   ]
  },
  {
   "cell_type": "code",
   "execution_count": 10,
   "id": "ecec61da",
   "metadata": {},
   "outputs": [
    {
     "data": {
      "text/html": [
       "<div>\n",
       "<style scoped>\n",
       "    .dataframe tbody tr th:only-of-type {\n",
       "        vertical-align: middle;\n",
       "    }\n",
       "\n",
       "    .dataframe tbody tr th {\n",
       "        vertical-align: top;\n",
       "    }\n",
       "\n",
       "    .dataframe thead th {\n",
       "        text-align: right;\n",
       "    }\n",
       "</style>\n",
       "<table border=\"1\" class=\"dataframe\">\n",
       "  <thead>\n",
       "    <tr style=\"text-align: right;\">\n",
       "      <th></th>\n",
       "      <th>Country</th>\n",
       "      <th>Year</th>\n",
       "      <th>Inflamation_annual_cpi</th>\n",
       "    </tr>\n",
       "  </thead>\n",
       "  <tbody>\n",
       "    <tr>\n",
       "      <th>0</th>\n",
       "      <td>South Africa</td>\n",
       "      <td>2008</td>\n",
       "      <td>11.536</td>\n",
       "    </tr>\n",
       "    <tr>\n",
       "      <th>1</th>\n",
       "      <td>South Africa</td>\n",
       "      <td>2009</td>\n",
       "      <td>7.130</td>\n",
       "    </tr>\n",
       "    <tr>\n",
       "      <th>2</th>\n",
       "      <td>South Africa</td>\n",
       "      <td>2010</td>\n",
       "      <td>4.257</td>\n",
       "    </tr>\n",
       "    <tr>\n",
       "      <th>3</th>\n",
       "      <td>South Africa</td>\n",
       "      <td>2011</td>\n",
       "      <td>5.000</td>\n",
       "    </tr>\n",
       "    <tr>\n",
       "      <th>4</th>\n",
       "      <td>South Africa</td>\n",
       "      <td>2012</td>\n",
       "      <td>5.654</td>\n",
       "    </tr>\n",
       "    <tr>\n",
       "      <th>5</th>\n",
       "      <td>South Africa</td>\n",
       "      <td>2013</td>\n",
       "      <td>5.752</td>\n",
       "    </tr>\n",
       "  </tbody>\n",
       "</table>\n",
       "</div>"
      ],
      "text/plain": [
       "        Country  Year  Inflamation_annual_cpi\n",
       "0  South Africa  2008                  11.536\n",
       "1  South Africa  2009                   7.130\n",
       "2  South Africa  2010                   4.257\n",
       "3  South Africa  2011                   5.000\n",
       "4  South Africa  2012                   5.654\n",
       "5  South Africa  2013                   5.752"
      ]
     },
     "execution_count": 10,
     "metadata": {},
     "output_type": "execute_result"
    }
   ],
   "source": [
    "#Creating A Bar Graph for the South African Inflation\n",
    "df = pd.read_excel('African_crisisBF.xlsx')\n",
    "df"
   ]
  },
  {
   "cell_type": "code",
   "execution_count": 11,
   "id": "7952d990",
   "metadata": {},
   "outputs": [
    {
     "data": {
      "text/html": [
       "<div>\n",
       "<style scoped>\n",
       "    .dataframe tbody tr th:only-of-type {\n",
       "        vertical-align: middle;\n",
       "    }\n",
       "\n",
       "    .dataframe tbody tr th {\n",
       "        vertical-align: top;\n",
       "    }\n",
       "\n",
       "    .dataframe thead th {\n",
       "        text-align: right;\n",
       "    }\n",
       "</style>\n",
       "<table border=\"1\" class=\"dataframe\">\n",
       "  <thead>\n",
       "    <tr style=\"text-align: right;\">\n",
       "      <th></th>\n",
       "      <th>Year</th>\n",
       "      <th>Inflamation_annual_cpi</th>\n",
       "    </tr>\n",
       "  </thead>\n",
       "  <tbody>\n",
       "    <tr>\n",
       "      <th>0</th>\n",
       "      <td>2008</td>\n",
       "      <td>11.536</td>\n",
       "    </tr>\n",
       "    <tr>\n",
       "      <th>1</th>\n",
       "      <td>2009</td>\n",
       "      <td>7.130</td>\n",
       "    </tr>\n",
       "    <tr>\n",
       "      <th>2</th>\n",
       "      <td>2010</td>\n",
       "      <td>4.257</td>\n",
       "    </tr>\n",
       "    <tr>\n",
       "      <th>3</th>\n",
       "      <td>2011</td>\n",
       "      <td>5.000</td>\n",
       "    </tr>\n",
       "    <tr>\n",
       "      <th>4</th>\n",
       "      <td>2012</td>\n",
       "      <td>5.654</td>\n",
       "    </tr>\n",
       "    <tr>\n",
       "      <th>5</th>\n",
       "      <td>2013</td>\n",
       "      <td>5.752</td>\n",
       "    </tr>\n",
       "  </tbody>\n",
       "</table>\n",
       "</div>"
      ],
      "text/plain": [
       "   Year  Inflamation_annual_cpi\n",
       "0  2008                  11.536\n",
       "1  2009                   7.130\n",
       "2  2010                   4.257\n",
       "3  2011                   5.000\n",
       "4  2012                   5.654\n",
       "5  2013                   5.752"
      ]
     },
     "execution_count": 11,
     "metadata": {},
     "output_type": "execute_result"
    }
   ],
   "source": [
    "#Pivotting the dataframe\n",
    "df = pd.read_excel('African_crisisBF.xlsx')\n",
    "df = df[['Year','Inflamation_annual_cpi']]\n",
    "df.columns = ['Year', 'Inflamation_annual_cpi']\n",
    "df"
   ]
  },
  {
   "cell_type": "markdown",
   "id": "b668cff3",
   "metadata": {},
   "source": [
    "### South African Inflation rate from 2008 to 2014"
   ]
  },
  {
   "cell_type": "code",
   "execution_count": 21,
   "id": "d985fe76",
   "metadata": {},
   "outputs": [
    {
     "data": {
      "image/png": "[encoded data removed]",
      "text/plain": [
       "<Figure size 432x288 with 1 Axes>"
      ]
     },
     "metadata": {
      "needs_background": "light"
     },
     "output_type": "display_data"
    }
   ],
   "source": [
    "#Creating A Bar Graph for the South African Inflation\n",
    "df = pd.read_excel('African_crisisBF.xlsx')\n",
    "\n",
    "#ploting a histogram graph\n",
    "plt.bar(df['Year'], df['Inflamation_annual_cpi'],color=['blue'])\n",
    "plt.xlabel('Year')\n",
    "plt.ylabel('Inflamation_annual_cpi')\n",
    "plt.title('South African Inflation rate from 2008 to 2014 During Loadshedding')\n",
    "plt.show()"
   ]
  },
  {
   "cell_type": "markdown",
   "id": "9f67cd62",
   "metadata": {},
   "source": [
    "##### In 2008 the rate of Inflation was High this Might Be as a Result of the 2007 Global Recession and Decresed in 2009 and 2010. from 2011 there was a low Incress to 2013."
   ]
  },
  {
   "cell_type": "markdown",
   "id": "59f8b291",
   "metadata": {},
   "source": [
    "### South African Inflation rate During Loadshedding Years"
   ]
  },
  {
   "cell_type": "code",
   "execution_count": 22,
   "id": "9906d2a7",
   "metadata": {},
   "outputs": [
    {
     "data": {
      "image/png": "[encoded data removed]",
      "text/plain": [
       "<Figure size 432x288 with 1 Axes>"
      ]
     },
     "metadata": {
      "needs_background": "light"
     },
     "output_type": "display_data"
    }
   ],
   "source": [
    "#Creating A Bar Graph for the South African Inflation\n",
    "df = pd.read_excel('Annual inflation.xlsx')\n",
    "\n",
    "#ploting a histogram graph\n",
    "plt.bar(df['Year'], df['Inflation_annual_cpi'],color=['red'])\n",
    "plt.xlabel('Year')\n",
    "plt.ylabel('Inflation_annual_cpi')\n",
    "plt.title('South African Inflation rate from 2014 to 2021 During Loadshedding')\n",
    "plt.show()"
   ]
  },
  {
   "cell_type": "markdown",
   "id": "fada6fca",
   "metadata": {},
   "source": [
    "##### in 2014 there was  sharp Increse in the the Inflation rate and stedly decresed in 2015. it Incrsed in 2015 more in a rate which is more than the 2014 one. from 2017 there was a decrese which lasted till 2020. in 2021 there was an incress buy it was not that high like the ones in Durion the years."
   ]
  },
  {
   "cell_type": "markdown",
   "id": "1717593e",
   "metadata": {},
   "source": [
    "### South African Inflation Comparrison from 2008 to 2021"
   ]
  },
  {
   "cell_type": "code",
   "execution_count": 26,
   "id": "59e579f7",
   "metadata": {},
   "outputs": [
    {
     "data": {
      "image/png": "[encoded data removed]",
      "text/plain": [
       "<Figure size 432x288 with 1 Axes>"
      ]
     },
     "metadata": {
      "needs_background": "light"
     },
     "output_type": "display_data"
    }
   ],
   "source": [
    "#Dataframe 1 for Before Loadshedding years\n",
    "df1 = pd.read_excel('Annual inflation.xlsx')\n",
    "df1 = df1[['Year','Inflation_annual_cpi']]\n",
    "df1.columns = ['Year', 'Inflation_annual_cpi']\n",
    "df1\n",
    "\n",
    "#Dataframe 2 for During Loadshedding years\n",
    "df2 = pd.read_excel('African_crisisBF.xlsx')\n",
    "df2 = df2[['Year','Inflamation_annual_cpi']]\n",
    "df2.columns = ['Year', 'Inflamation_annual_cpi']\n",
    "df2\n",
    "\n",
    "plt.bar(df1['Year'], df1['Inflation_annual_cpi'],color=['red'],label='Before Loadshedding')\n",
    "plt.bar(df2['Year'], df2['Inflamation_annual_cpi'],color=['blue'], label='During Loadshedding')\n",
    "plt.xlabel('Year')\n",
    "plt.ylabel('SA FDI net flow')\n",
    "plt.title('Effects of Loadshedding on South African Inflation Rate from 2008-2021')\n",
    "plt.legend()\n",
    "plt.show()\n",
    "\n",
    "\n"
   ]
  },
  {
   "cell_type": "markdown",
   "id": "200a5ef2",
   "metadata": {},
   "source": [
    "##### The Inflation for year before Loadshedding years was high this can be due to the 2007 Global Economic Recession and the Inflation During the Loadshedding Years appers to be Lower than the the one of the Years before Loadsheding. Based on this data we can say Loadshedding has Negatively Impected Inflation. "
   ]
  },
  {
   "cell_type": "markdown",
   "id": "96593a78",
   "metadata": {},
   "source": [
    "### Effects of Loadshedding on South African Unemployment from 2008 to 2021"
   ]
  },
  {
   "cell_type": "code",
   "execution_count": 35,
   "id": "45643cfa",
   "metadata": {},
   "outputs": [
    {
     "data": {
      "text/html": [
       "<div>\n",
       "<style scoped>\n",
       "    .dataframe tbody tr th:only-of-type {\n",
       "        vertical-align: middle;\n",
       "    }\n",
       "\n",
       "    .dataframe tbody tr th {\n",
       "        vertical-align: top;\n",
       "    }\n",
       "\n",
       "    .dataframe thead th {\n",
       "        text-align: right;\n",
       "    }\n",
       "</style>\n",
       "<table border=\"1\" class=\"dataframe\">\n",
       "  <thead>\n",
       "    <tr style=\"text-align: right;\">\n",
       "      <th></th>\n",
       "      <th>Years</th>\n",
       "      <th>Unemployment Rate</th>\n",
       "    </tr>\n",
       "  </thead>\n",
       "  <tbody>\n",
       "    <tr>\n",
       "      <th>0</th>\n",
       "      <td>2008</td>\n",
       "      <td>22.410</td>\n",
       "    </tr>\n",
       "    <tr>\n",
       "      <th>1</th>\n",
       "      <td>2009</td>\n",
       "      <td>23.520</td>\n",
       "    </tr>\n",
       "    <tr>\n",
       "      <th>2</th>\n",
       "      <td>2010</td>\n",
       "      <td>24.680</td>\n",
       "    </tr>\n",
       "    <tr>\n",
       "      <th>3</th>\n",
       "      <td>2011</td>\n",
       "      <td>24.640</td>\n",
       "    </tr>\n",
       "    <tr>\n",
       "      <th>4</th>\n",
       "      <td>2012</td>\n",
       "      <td>24.730</td>\n",
       "    </tr>\n",
       "    <tr>\n",
       "      <th>5</th>\n",
       "      <td>2013</td>\n",
       "      <td>24.560</td>\n",
       "    </tr>\n",
       "    <tr>\n",
       "      <th>6</th>\n",
       "      <td>2014</td>\n",
       "      <td>24.890</td>\n",
       "    </tr>\n",
       "    <tr>\n",
       "      <th>7</th>\n",
       "      <td>2015</td>\n",
       "      <td>25.150</td>\n",
       "    </tr>\n",
       "    <tr>\n",
       "      <th>8</th>\n",
       "      <td>2016</td>\n",
       "      <td>26.540</td>\n",
       "    </tr>\n",
       "    <tr>\n",
       "      <th>9</th>\n",
       "      <td>2017</td>\n",
       "      <td>27.040</td>\n",
       "    </tr>\n",
       "    <tr>\n",
       "      <th>10</th>\n",
       "      <td>2018</td>\n",
       "      <td>26.910</td>\n",
       "    </tr>\n",
       "    <tr>\n",
       "      <th>11</th>\n",
       "      <td>2019</td>\n",
       "      <td>28.470</td>\n",
       "    </tr>\n",
       "    <tr>\n",
       "      <th>12</th>\n",
       "      <td>2020</td>\n",
       "      <td>29.220</td>\n",
       "    </tr>\n",
       "    <tr>\n",
       "      <th>13</th>\n",
       "      <td>2021</td>\n",
       "      <td>33.559</td>\n",
       "    </tr>\n",
       "  </tbody>\n",
       "</table>\n",
       "</div>"
      ],
      "text/plain": [
       "    Years  Unemployment Rate \n",
       "0    2008              22.410\n",
       "1    2009              23.520\n",
       "2    2010              24.680\n",
       "3    2011              24.640\n",
       "4    2012              24.730\n",
       "5    2013              24.560\n",
       "6    2014              24.890\n",
       "7    2015              25.150\n",
       "8    2016              26.540\n",
       "9    2017              27.040\n",
       "10   2018              26.910\n",
       "11   2019              28.470\n",
       "12   2020              29.220\n",
       "13   2021              33.559"
      ]
     },
     "execution_count": 35,
     "metadata": {},
     "output_type": "execute_result"
    }
   ],
   "source": [
    "#Creating A Dataframe for the South African Unemployement\n",
    "df = pd.read_excel('UnemploymentSA.xlsx')\n",
    "df"
   ]
  },
  {
   "cell_type": "markdown",
   "id": "6707380b",
   "metadata": {},
   "source": [
    "### South african Unemployment from 2008 to 2014"
   ]
  },
  {
   "cell_type": "code",
   "execution_count": 45,
   "id": "bda672af",
   "metadata": {},
   "outputs": [
    {
     "data": {
      "image/png": "[encoded data removed]",
      "text/plain": [
       "<Figure size 432x288 with 1 Axes>"
      ]
     },
     "metadata": {
      "needs_background": "light"
     },
     "output_type": "display_data"
    }
   ],
   "source": [
    "#Creating and Pivoting the Dataframe\n",
    "df = pd.read_excel('SA_UnemploymentBL.xlsx')\n",
    "df = df[['Years','unemployment_rate_(%)']]\n",
    "df.columns = ['Years', 'unemployment_rate_(%)']\n",
    "\n",
    "#ploting a histogram graph\n",
    "plt.plot(df['Years'], df['unemployment_rate_(%)'])\n",
    "plt.xlabel('Years')\n",
    "plt.ylabel('unemployment_rate_(%)')\n",
    "plt.title('South African Unemployment Rate from 2008 to 2014 Before Loadshedding')\n",
    "plt.show()\n"
   ]
  },
  {
   "cell_type": "markdown",
   "id": "685df258",
   "metadata": {},
   "source": [
    "##### This Data Trand shows that form 2008 to 2010 there was a sharp and steep increase in the Unemployment Rate of South Africa and from 2010 to 2014 Trand shows a minior Increse and decress of Unpemloment rate."
   ]
  },
  {
   "cell_type": "markdown",
   "id": "5d02744c",
   "metadata": {},
   "source": [
    "### South african Unemployment from 2014 to 2021"
   ]
  },
  {
   "cell_type": "code",
   "execution_count": 46,
   "id": "f20d9454",
   "metadata": {},
   "outputs": [
    {
     "data": {
      "image/png": "[encoded data removed]",
      "text/plain": [
       "<Figure size 432x288 with 1 Axes>"
      ]
     },
     "metadata": {
      "needs_background": "light"
     },
     "output_type": "display_data"
    }
   ],
   "source": [
    "#Creating and Pivoting the Dataframe\n",
    "df = pd.read_excel('SA_UnemploymentAL.xlsx')\n",
    "df = df[['Years','unemployment_rate_(%)']]\n",
    "df.columns = ['Years', 'unemployment_rate_(%)']\n",
    "\n",
    "#ploting a histogram graph\n",
    "plt.plot(df['Years'], df['unemployment_rate_(%)'])\n",
    "plt.xlabel('Years')\n",
    "plt.ylabel('unemployment_rate_(%)')\n",
    "plt.title('South African Unemployment Rate from 2015 to 2021 During Loadshedding')\n",
    "plt.show()\n",
    "\n"
   ]
  },
  {
   "cell_type": "markdown",
   "id": "4d1df3d2",
   "metadata": {},
   "source": [
    "##### This Data Trand shows the Intanse Increse for in Unemployment Rate of South Africa from 2014 to 2021."
   ]
  },
  {
   "cell_type": "markdown",
   "id": "4bb7cf81",
   "metadata": {},
   "source": [
    "### South African Inflation Comparrison from 2008 to 2021."
   ]
  },
  {
   "cell_type": "code",
   "execution_count": 53,
   "id": "9411aa3d",
   "metadata": {},
   "outputs": [
    {
     "data": {
      "text/plain": [
       "<matplotlib.legend.Legend at 0x7f931d5eba90>"
      ]
     },
     "execution_count": 53,
     "metadata": {},
     "output_type": "execute_result"
    },
    {
     "data": {
      "image/png": "[encoded data removed]",
      "text/plain": [
       "<Figure size 432x288 with 1 Axes>"
      ]
     },
     "metadata": {
      "needs_background": "light"
     },
     "output_type": "display_data"
    }
   ],
   "source": [
    "#Dataframe 1 for Before Loadshedding years\n",
    "df1 = pd.read_excel('SA_UnemploymentBL.xlsx')\n",
    "df1 = df1[['Years','unemployment_rate_(%)']]\n",
    "df1.columns = ['Years', 'unemployment_rate_(%)']\n",
    "\n",
    "#Dataframe 2 for During Loadshedding years\n",
    "df2 = pd.read_excel('SA_UnemploymentAL.xlsx')\n",
    "df2 = df2[['Years','unemployment_rate_(%)']]\n",
    "df2.columns = ['Years', 'unemployment_rate_(%)']\n",
    "\n",
    "\n",
    "plt.bar(df1['Years'], df1['unemployment_rate_(%)'],color=['blueviolet'],label='Before Loadshedding')\n",
    "plt.bar(df2['Years'], df2['unemployment_rate_(%)'],color=['red'], label='During Loadshedding')\n",
    "plt.xlabel('Years')\n",
    "plt.ylabel('Unemployment_rate_(%)')\n",
    "plt.title('Effects of Loadshedding on South African Unemployemnt Rate from 2008-2021')\n",
    "plt.legend()"
   ]
  },
  {
   "cell_type": "markdown",
   "id": "e1f76e41",
   "metadata": {},
   "source": [
    "##### This data shows that the unemployemnt rate of the Years during Loadsheding is More Higher than the Ones Before Loadsheding thefore Loadshedding has a nagative Impact on The South african Employemnt Rate."
   ]
  },
  {
   "cell_type": "code",
   "execution_count": null,
   "id": "3b38d106",
   "metadata": {},
   "outputs": [],
   "source": []
  }
 ],
 "metadata": {
  "kernelspec": {
   "display_name": "Python 3 (ipykernel)",
   "language": "python",
   "name": "python3"
  },
  "language_info": {
   "codemirror_mode": {
    "name": "ipython",
    "version": 3
   },
   "file_extension": ".py",
   "mimetype": "text/x-python",
   "name": "python",
   "nbconvert_exporter": "python",
   "pygments_lexer": "ipython3",
   "version": "3.9.12"
  }
 },
 "nbformat": 4,
 "nbformat_minor": 5
}
