{
 "cells": [
  {
   "cell_type": "markdown",
   "metadata": {
    "id": "4N685prZzKgL"
   },
   "source": [
    "# South African Loadsheding News Reviews From Germen"
   ]
  },
  {
   "cell_type": "code",
   "execution_count": 32,
   "metadata": {
    "colab": {
     "base_uri": "https://localhost:8080/"
    },
    "id": "NCyzB156OB8z",
    "outputId": "51507ec4-e3d3-4499-d3d2-a1048235efc4"
   },
   "outputs": [
    {
     "name": "stdout",
     "output_type": "stream",
     "text": [
      "Looking in indexes: https://pypi.org/simple, https://us-python.pkg.dev/colab-wheels/public/simple/\n",
      "Requirement already satisfied: pygooglenews in /usr/local/lib/python3.7/dist-packages (0.1.2)\n",
      "Requirement already satisfied: dateparser<0.8.0,>=0.7.6 in /usr/local/lib/python3.7/dist-packages (from pygooglenews) (0.7.6)\n",
      "Requirement already satisfied: requests<3.0.0,>=2.24.0 in /usr/local/lib/python3.7/dist-packages (from pygooglenews) (2.28.1)\n",
      "Requirement already satisfied: feedparser<6.0.0,>=5.2.1 in /usr/local/lib/python3.7/dist-packages (from pygooglenews) (5.2.1)\n",
      "Requirement already satisfied: beautifulsoup4<5.0.0,>=4.9.1 in /usr/local/lib/python3.7/dist-packages (from pygooglenews) (4.11.1)\n",
      "Requirement already satisfied: soupsieve>1.2 in /usr/local/lib/python3.7/dist-packages (from beautifulsoup4<5.0.0,>=4.9.1->pygooglenews) (2.3.2.post1)\n",
      "Requirement already satisfied: tzlocal in /usr/local/lib/python3.7/dist-packages (from dateparser<0.8.0,>=0.7.6->pygooglenews) (1.5.1)\n",
      "Requirement already satisfied: regex!=2019.02.19 in /usr/local/lib/python3.7/dist-packages (from dateparser<0.8.0,>=0.7.6->pygooglenews) (2022.6.2)\n",
      "Requirement already satisfied: python-dateutil in /usr/local/lib/python3.7/dist-packages (from dateparser<0.8.0,>=0.7.6->pygooglenews) (2.8.2)\n",
      "Requirement already satisfied: pytz in /usr/local/lib/python3.7/dist-packages (from dateparser<0.8.0,>=0.7.6->pygooglenews) (2022.6)\n",
      "Requirement already satisfied: charset-normalizer<3,>=2 in /usr/local/lib/python3.7/dist-packages (from requests<3.0.0,>=2.24.0->pygooglenews) (2.1.1)\n",
      "Requirement already satisfied: certifi>=2017.4.17 in /usr/local/lib/python3.7/dist-packages (from requests<3.0.0,>=2.24.0->pygooglenews) (2022.9.24)\n",
      "Requirement already satisfied: urllib3<1.27,>=1.21.1 in /usr/local/lib/python3.7/dist-packages (from requests<3.0.0,>=2.24.0->pygooglenews) (1.24.3)\n",
      "Requirement already satisfied: idna<4,>=2.5 in /usr/local/lib/python3.7/dist-packages (from requests<3.0.0,>=2.24.0->pygooglenews) (2.10)\n",
      "Requirement already satisfied: six>=1.5 in /usr/local/lib/python3.7/dist-packages (from python-dateutil->dateparser<0.8.0,>=0.7.6->pygooglenews) (1.15.0)\n"
     ]
    }
   ],
   "source": [
    "!pip install pygooglenews"
   ]
  },
  {
   "cell_type": "markdown",
   "metadata": {},
   "source": [
    "## Reading and Cleaning the Data"
   ]
  },
  {
   "cell_type": "code",
   "execution_count": null,
   "metadata": {
    "id": "FwOGFOWEOjRK"
   },
   "outputs": [],
   "source": [
    "#all the imports needed to run your code\n",
    "from pygooglenews import GoogleNews\n",
    "import pandas as pd\n",
    "import numpy as np\n",
    "import datetime\n",
    "import matplotlib.pyplot as plt"
   ]
  },
  {
   "cell_type": "markdown",
   "metadata": {},
   "source": [
    "## Reading the Data from Google News Articles"
   ]
  },
  {
   "cell_type": "code",
   "execution_count": null,
   "metadata": {
    "id": "37kyKsZrPLEr"
   },
   "outputs": [],
   "source": [
    "#create the Google News API to search using germerny langage and location germany\n",
    "gn = GoogleNews(lang='de',country=\"DE\")"
   ]
  },
  {
   "cell_type": "code",
   "execution_count": null,
   "metadata": {
    "colab": {
     "base_uri": "https://localhost:8080/"
    },
    "id": "DfmXDtPOPLRI",
    "outputId": "13ffe9bf-4edf-4aa2-cd1e-ce3f3863d3d7"
   },
   "outputs": [
    {
     "name": "stdout",
     "output_type": "stream",
     "text": [
      "{'feed': {'generator_detail': {'name': 'NFE/5.0'}, 'generator': 'NFE/5.0', 'title': '\"Südafrika Lastabwurf und Energiekrise\" - Google News', 'title_detail': {'type': 'text/plain', 'language': None, 'base': '', 'value': '\"Südafrika Lastabwurf und Energiekrise\" - Google News'}, 'links': [{'rel': 'alternate', 'type': 'text/html', 'href': 'https://news.google.com/search?q=S%C3%BCdafrika+Lastabwurf+und+Energiekrise&ceid=DE:de&hl=de&gl=DE'}], 'link': 'https://news.google.com/search?q=S%C3%BCdafrika+Lastabwurf+und+Energiekrise&ceid=DE:de&hl=de&gl=DE', 'language': 'de', 'publisher': 'news-webmaster@google.com', 'publisher_detail': {'email': 'news-webmaster@google.com'}, 'rights': '2022 Google Inc.', 'rights_detail': {'type': 'text/plain', 'language': None, 'base': '', 'value': '2022 Google Inc.'}, 'updated': 'Sun, 04 Dec 2022 20:20:10 GMT', 'updated_parsed': time.struct_time(tm_year=2022, tm_mon=12, tm_mday=4, tm_hour=20, tm_min=20, tm_sec=10, tm_wday=6, tm_yday=338, tm_isdst=0), 'subtitle': 'Google News', 'subtitle_detail': {'type': 'text/html', 'language': None, 'base': '', 'value': 'Google News'}}, 'entries': [{'title': 'Energiekrise in Südafrika: Wo Blackouts zum Alltag gehören - WELT - WELT', 'title_detail': {'type': 'text/plain', 'language': None, 'base': '', 'value': 'Energiekrise in Südafrika: Wo Blackouts zum Alltag gehören - WELT - WELT'}, 'links': [{'rel': 'alternate', 'type': 'text/html', 'href': 'https://news.google.com/__i/rss/rd/articles/CBMicmh0dHBzOi8vd3d3LndlbHQuZGUvcG9saXRpay9hdXNsYW5kL3BsdXMyNDI0NzIyOTcvRW5lcmdpZWtyaXNlLWluLVN1ZWRhZnJpa2EtV28tQmxhY2tvdXRzLXp1bS1BbGx0YWctZ2Vob2VyZW4uaHRtbNIBAA?oc=5'}], 'link': 'https://news.google.com/__i/rss/rd/articles/CBMicmh0dHBzOi8vd3d3LndlbHQuZGUvcG9saXRpay9hdXNsYW5kL3BsdXMyNDI0NzIyOTcvRW5lcmdpZWtyaXNlLWluLVN1ZWRhZnJpa2EtV28tQmxhY2tvdXRzLXp1bS1BbGx0YWctZ2Vob2VyZW4uaHRtbNIBAA?oc=5', 'id': 'CBMicmh0dHBzOi8vd3d3LndlbHQuZGUvcG9saXRpay9hdXNsYW5kL3BsdXMyNDI0NzIyOTcvRW5lcmdpZWtyaXNlLWluLVN1ZWRhZnJpa2EtV28tQmxhY2tvdXRzLXp1bS1BbGx0YWctZ2Vob2VyZW4uaHRtbNIBAA', 'guidislink': False, 'published': 'Sun, 04 Dec 2022 13:44:27 GMT', 'published_parsed': time.struct_time(tm_year=2022, tm_mon=12, tm_mday=4, tm_hour=13, tm_min=44, tm_sec=27, tm_wday=6, tm_yday=338, tm_isdst=0), 'summary': '<a href=\"https://news.google.com/__i/rss/rd/articles/CBMicmh0dHBzOi8vd3d3LndlbHQuZGUvcG9saXRpay9hdXNsYW5kL3BsdXMyNDI0NzIyOTcvRW5lcmdpZWtyaXNlLWluLVN1ZWRhZnJpa2EtV28tQmxhY2tvdXRzLXp1bS1BbGx0YWctZ2Vob2VyZW4uaHRtbNIBAA?oc=5\" target=\"_blank\">Energiekrise in Südafrika: Wo Blackouts zum Alltag gehören - WELT</a>&nbsp;&nbsp;<font color=\"#6f6f6f\">WELT</font>', 'summary_detail': {'type': 'text/html', 'language': None, 'base': '', 'value': '<a href=\"https://news.google.com/__i/rss/rd/articles/CBMicmh0dHBzOi8vd3d3LndlbHQuZGUvcG9saXRpay9hdXNsYW5kL3BsdXMyNDI0NzIyOTcvRW5lcmdpZWtyaXNlLWluLVN1ZWRhZnJpa2EtV28tQmxhY2tvdXRzLXp1bS1BbGx0YWctZ2Vob2VyZW4uaHRtbNIBAA?oc=5\" target=\"_blank\">Energiekrise in Südafrika: Wo Blackouts zum Alltag gehören - WELT</a>&nbsp;&nbsp;<font color=\"#6f6f6f\">WELT</font>'}, 'source': {'href': 'https://www.welt.de', 'title': 'WELT'}, 'sub_articles': []}, {'title': 'Blackouts & Abschaltungen: Wie Südafrika mit seinem Strommangel umgeht - Handelsblatt', 'title_detail': {'type': 'text/plain', 'language': None, 'base': '', 'value': 'Blackouts & Abschaltungen: Wie Südafrika mit seinem Strommangel umgeht - Handelsblatt'}, 'links': [{'rel': 'alternate', 'type': 'text/html', 'href': 'https://news.google.com/__i/rss/rd/articles/CBMinwFodHRwczovL3d3dy5oYW5kZWxzYmxhdHQuY29tL3BvbGl0aWsvaW50ZXJuYXRpb25hbC9lbmVyZ2lla25hcHBoZWl0LWxlYmVuLW1pdC1kZW0tZ2VwbGFudGVuLWJsYWNrb3V0LXdpZS1zdWVkYWZyaWthLW1pdC1zZWluZW0tc3Ryb21tYW5nZWwtdW1nZWh0LzI4NjkzMjk4Lmh0bWzSAQA?oc=5'}], 'link': 'https://news.google.com/__i/rss/rd/articles/CBMinwFodHRwczovL3d3dy5oYW5kZWxzYmxhdHQuY29tL3BvbGl0aWsvaW50ZXJuYXRpb25hbC9lbmVyZ2lla25hcHBoZWl0LWxlYmVuLW1pdC1kZW0tZ2VwbGFudGVuLWJsYWNrb3V0LXdpZS1zdWVkYWZyaWthLW1pdC1zZWluZW0tc3Ryb21tYW5nZWwtdW1nZWh0LzI4NjkzMjk4Lmh0bWzSAQA?oc=5', 'id': 'CBMinwFodHRwczovL3d3dy5oYW5kZWxzYmxhdHQuY29tL3BvbGl0aWsvaW50ZXJuYXRpb25hbC9lbmVyZ2lla25hcHBoZWl0LWxlYmVuLW1pdC1kZW0tZ2VwbGFudGVuLWJsYWNrb3V0LXdpZS1zdWVkYWZyaWthLW1pdC1zZWluZW0tc3Ryb21tYW5nZWwtdW1nZWh0LzI4NjkzMjk4Lmh0bWzSAQA', 'guidislink': False, 'published': 'Thu, 22 Sep 2022 07:00:00 GMT', 'published_parsed': time.struct_time(tm_year=2022, tm_mon=9, tm_mday=22, tm_hour=7, tm_min=0, tm_sec=0, tm_wday=3, tm_yday=265, tm_isdst=0), 'summary': '<a href=\"https://news.google.com/__i/rss/rd/articles/CBMinwFodHRwczovL3d3dy5oYW5kZWxzYmxhdHQuY29tL3BvbGl0aWsvaW50ZXJuYXRpb25hbC9lbmVyZ2lla25hcHBoZWl0LWxlYmVuLW1pdC1kZW0tZ2VwbGFudGVuLWJsYWNrb3V0LXdpZS1zdWVkYWZyaWthLW1pdC1zZWluZW0tc3Ryb21tYW5nZWwtdW1nZWh0LzI4NjkzMjk4Lmh0bWzSAQA?oc=5\" target=\"_blank\">Blackouts & Abschaltungen: Wie Südafrika mit seinem Strommangel umgeht</a>&nbsp;&nbsp;<font color=\"#6f6f6f\">Handelsblatt </font>', 'summary_detail': {'type': 'text/html', 'language': None, 'base': '', 'value': '<a href=\"https://news.google.com/__i/rss/rd/articles/CBMinwFodHRwczovL3d3dy5oYW5kZWxzYmxhdHQuY29tL3BvbGl0aWsvaW50ZXJuYXRpb25hbC9lbmVyZ2lla25hcHBoZWl0LWxlYmVuLW1pdC1kZW0tZ2VwbGFudGVuLWJsYWNrb3V0LXdpZS1zdWVkYWZyaWthLW1pdC1zZWluZW0tc3Ryb21tYW5nZWwtdW1nZWh0LzI4NjkzMjk4Lmh0bWzSAQA?oc=5\" target=\"_blank\">Blackouts & Abschaltungen: Wie Südafrika mit seinem Strommangel umgeht</a>&nbsp;&nbsp;<font color=\"#6f6f6f\">Handelsblatt </font>'}, 'source': {'href': 'https://www.handelsblatt.com', 'title': 'Handelsblatt'}, 'sub_articles': []}, {'title': 'Warnung vor „Lastabwurf“: Sitzen wir bald im Dunkeln wie die Südafrikaner? - BILD', 'title_detail': {'type': 'text/plain', 'language': None, 'base': '', 'value': 'Warnung vor „Lastabwurf“: Sitzen wir bald im Dunkeln wie die Südafrikaner? - BILD'}, 'links': [{'rel': 'alternate', 'type': 'text/html', 'href': 'https://news.google.com/__i/rss/rd/articles/CBMimAFodHRwczovL3d3dy5iaWxkLmRlL2JpbGQtcGx1cy9wb2xpdGlrL2F1c2xhbmQvcG9saXRpay1hdXNsYW5kL3dhcm51bmctdm9yLWxhc3RhYnd1cmYtc2l0emVuLXdpci1iYWxkLWltLWR1bmtlbG4td2llLWRpZS1zdWVkYWZyaWthbmVyLTgxMzQ1ODgwLmJpbGQuaHRtbNIBAA?oc=5'}], 'link': 'https://news.google.com/__i/rss/rd/articles/CBMimAFodHRwczovL3d3dy5iaWxkLmRlL2JpbGQtcGx1cy9wb2xpdGlrL2F1c2xhbmQvcG9saXRpay1hdXNsYW5kL3dhcm51bmctdm9yLWxhc3RhYnd1cmYtc2l0emVuLXdpci1iYWxkLWltLWR1bmtlbG4td2llLWRpZS1zdWVkYWZyaWthbmVyLTgxMzQ1ODgwLmJpbGQuaHRtbNIBAA?oc=5', 'id': 'CBMimAFodHRwczovL3d3dy5iaWxkLmRlL2JpbGQtcGx1cy9wb2xpdGlrL2F1c2xhbmQvcG9saXRpay1hdXNsYW5kL3dhcm51bmctdm9yLWxhc3RhYnd1cmYtc2l0emVuLXdpci1iYWxkLWltLWR1bmtlbG4td2llLWRpZS1zdWVkYWZyaWthbmVyLTgxMzQ1ODgwLmJpbGQuaHRtbNIBAA', 'guidislink': False, 'published': 'Sat, 17 Sep 2022 07:00:00 GMT', 'published_parsed': time.struct_time(tm_year=2022, tm_mon=9, tm_mday=17, tm_hour=7, tm_min=0, tm_sec=0, tm_wday=5, tm_yday=260, tm_isdst=0), 'summary': '<a href=\"https://news.google.com/__i/rss/rd/articles/CBMimAFodHRwczovL3d3dy5iaWxkLmRlL2JpbGQtcGx1cy9wb2xpdGlrL2F1c2xhbmQvcG9saXRpay1hdXNsYW5kL3dhcm51bmctdm9yLWxhc3RhYnd1cmYtc2l0emVuLXdpci1iYWxkLWltLWR1bmtlbG4td2llLWRpZS1zdWVkYWZyaWthbmVyLTgxMzQ1ODgwLmJpbGQuaHRtbNIBAA?oc=5\" target=\"_blank\">Warnung vor „Lastabwurf“: Sitzen wir bald im Dunkeln wie die Südafrikaner?</a>&nbsp;&nbsp;<font color=\"#6f6f6f\">BILD</font>', 'summary_detail': {'type': 'text/html', 'language': None, 'base': '', 'value': '<a href=\"https://news.google.com/__i/rss/rd/articles/CBMimAFodHRwczovL3d3dy5iaWxkLmRlL2JpbGQtcGx1cy9wb2xpdGlrL2F1c2xhbmQvcG9saXRpay1hdXNsYW5kL3dhcm51bmctdm9yLWxhc3RhYnd1cmYtc2l0emVuLXdpci1iYWxkLWltLWR1bmtlbG4td2llLWRpZS1zdWVkYWZyaWthbmVyLTgxMzQ1ODgwLmJpbGQuaHRtbNIBAA?oc=5\" target=\"_blank\">Warnung vor „Lastabwurf“: Sitzen wir bald im Dunkeln wie die Südafrikaner?</a>&nbsp;&nbsp;<font color=\"#6f6f6f\">BILD</font>'}, 'source': {'href': 'https://www.bild.de', 'title': 'BILD'}, 'sub_articles': []}, {'title': 'Energiewende-Partnerschaften auf dem Vormarsch - Tagesspiegel Background', 'title_detail': {'type': 'text/plain', 'language': None, 'base': '', 'value': 'Energiewende-Partnerschaften auf dem Vormarsch - Tagesspiegel Background'}, 'links': [{'rel': 'alternate', 'type': 'text/html', 'href': 'https://news.google.com/__i/rss/rd/articles/CBMiX2h0dHBzOi8vYmFja2dyb3VuZC50YWdlc3NwaWVnZWwuZGUvZW5lcmdpZS1rbGltYS9lbmVyZ2lld2VuZGUtcGFydG5lcnNjaGFmdGVuLWF1Zi1kZW0tdm9ybWFyc2No0gEA?oc=5'}], 'link': 'https://news.google.com/__i/rss/rd/articles/CBMiX2h0dHBzOi8vYmFja2dyb3VuZC50YWdlc3NwaWVnZWwuZGUvZW5lcmdpZS1rbGltYS9lbmVyZ2lld2VuZGUtcGFydG5lcnNjaGFmdGVuLWF1Zi1kZW0tdm9ybWFyc2No0gEA?oc=5', 'id': 'CBMiX2h0dHBzOi8vYmFja2dyb3VuZC50YWdlc3NwaWVnZWwuZGUvZW5lcmdpZS1rbGltYS9lbmVyZ2lld2VuZGUtcGFydG5lcnNjaGFmdGVuLWF1Zi1kZW0tdm9ybWFyc2No0gEA', 'guidislink': False, 'published': 'Thu, 24 Nov 2022 05:04:07 GMT', 'published_parsed': time.struct_time(tm_year=2022, tm_mon=11, tm_mday=24, tm_hour=5, tm_min=4, tm_sec=7, tm_wday=3, tm_yday=328, tm_isdst=0), 'summary': '<a href=\"https://news.google.com/__i/rss/rd/articles/CBMiX2h0dHBzOi8vYmFja2dyb3VuZC50YWdlc3NwaWVnZWwuZGUvZW5lcmdpZS1rbGltYS9lbmVyZ2lld2VuZGUtcGFydG5lcnNjaGFmdGVuLWF1Zi1kZW0tdm9ybWFyc2No0gEA?oc=5\" target=\"_blank\">Energiewende-Partnerschaften auf dem Vormarsch</a>&nbsp;&nbsp;<font color=\"#6f6f6f\">Tagesspiegel Background</font>', 'summary_detail': {'type': 'text/html', 'language': None, 'base': '', 'value': '<a href=\"https://news.google.com/__i/rss/rd/articles/CBMiX2h0dHBzOi8vYmFja2dyb3VuZC50YWdlc3NwaWVnZWwuZGUvZW5lcmdpZS1rbGltYS9lbmVyZ2lld2VuZGUtcGFydG5lcnNjaGFmdGVuLWF1Zi1kZW0tdm9ybWFyc2No0gEA?oc=5\" target=\"_blank\">Energiewende-Partnerschaften auf dem Vormarsch</a>&nbsp;&nbsp;<font color=\"#6f6f6f\">Tagesspiegel Background</font>'}, 'source': {'href': 'https://background.tagesspiegel.de', 'title': 'Tagesspiegel Background'}, 'sub_articles': []}, {'title': 'Angstwort „Lastabwurf“: Netzbetreiber warnt vor Stromabschaltungen! | Politik - BILD', 'title_detail': {'type': 'text/plain', 'language': None, 'base': '', 'value': 'Angstwort „Lastabwurf“: Netzbetreiber warnt vor Stromabschaltungen! | Politik - BILD'}, 'links': [{'rel': 'alternate', 'type': 'text/html', 'href': 'https://news.google.com/__i/rss/rd/articles/CBMijgFodHRwczovL3d3dy5iaWxkLmRlL2JpbGQtcGx1cy9wb2xpdGlrL2lubGFuZC9wb2xpdGlrLWlubGFuZC9hbmdzdHdvcnQtbGFzdGFid3VyZi1uZXR6YmV0cmVpYmVyLXdhcm50LXZvci1zdHJvbWFic2NoYWx0dW5nZW4tODEzNDMwNzYuYmlsZC5odG1s0gEA?oc=5'}], 'link': 'https://news.google.com/__i/rss/rd/articles/CBMijgFodHRwczovL3d3dy5iaWxkLmRlL2JpbGQtcGx1cy9wb2xpdGlrL2lubGFuZC9wb2xpdGlrLWlubGFuZC9hbmdzdHdvcnQtbGFzdGFid3VyZi1uZXR6YmV0cmVpYmVyLXdhcm50LXZvci1zdHJvbWFic2NoYWx0dW5nZW4tODEzNDMwNzYuYmlsZC5odG1s0gEA?oc=5', 'id': 'CBMijgFodHRwczovL3d3dy5iaWxkLmRlL2JpbGQtcGx1cy9wb2xpdGlrL2lubGFuZC9wb2xpdGlrLWlubGFuZC9hbmdzdHdvcnQtbGFzdGFid3VyZi1uZXR6YmV0cmVpYmVyLXdhcm50LXZvci1zdHJvbWFic2NoYWx0dW5nZW4tODEzNDMwNzYuYmlsZC5odG1s0gEA', 'guidislink': False, 'published': 'Fri, 16 Sep 2022 07:00:00 GMT', 'published_parsed': time.struct_time(tm_year=2022, tm_mon=9, tm_mday=16, tm_hour=7, tm_min=0, tm_sec=0, tm_wday=4, tm_yday=259, tm_isdst=0), 'summary': '<a href=\"https://news.google.com/__i/rss/rd/articles/CBMijgFodHRwczovL3d3dy5iaWxkLmRlL2JpbGQtcGx1cy9wb2xpdGlrL2lubGFuZC9wb2xpdGlrLWlubGFuZC9hbmdzdHdvcnQtbGFzdGFid3VyZi1uZXR6YmV0cmVpYmVyLXdhcm50LXZvci1zdHJvbWFic2NoYWx0dW5nZW4tODEzNDMwNzYuYmlsZC5odG1s0gEA?oc=5\" target=\"_blank\">Angstwort „Lastabwurf“: Netzbetreiber warnt vor Stromabschaltungen! | Politik</a>&nbsp;&nbsp;<font color=\"#6f6f6f\">BILD</font>', 'summary_detail': {'type': 'text/html', 'language': None, 'base': '', 'value': '<a href=\"https://news.google.com/__i/rss/rd/articles/CBMijgFodHRwczovL3d3dy5iaWxkLmRlL2JpbGQtcGx1cy9wb2xpdGlrL2lubGFuZC9wb2xpdGlrLWlubGFuZC9hbmdzdHdvcnQtbGFzdGFid3VyZi1uZXR6YmV0cmVpYmVyLXdhcm50LXZvci1zdHJvbWFic2NoYWx0dW5nZW4tODEzNDMwNzYuYmlsZC5odG1s0gEA?oc=5\" target=\"_blank\">Angstwort „Lastabwurf“: Netzbetreiber warnt vor Stromabschaltungen! | Politik</a>&nbsp;&nbsp;<font color=\"#6f6f6f\">BILD</font>'}, 'source': {'href': 'https://www.bild.de', 'title': 'BILD'}, 'sub_articles': []}, {'title': 'Stromausfälle: Was hat es mit dem Lastabwurf auf sich? - Berliner Morgenpost', 'title_detail': {'type': 'text/plain', 'language': None, 'base': '', 'value': 'Stromausfälle: Was hat es mit dem Lastabwurf auf sich? - Berliner Morgenpost'}, 'links': [{'rel': 'alternate', 'type': 'text/html', 'href': 'https://news.google.com/__i/rss/rd/articles/CBMiYmh0dHBzOi8vd3d3Lm1vcmdlbnBvc3QuZGUvcG9saXRpay9hcnRpY2xlMjM2NTkxODU5L2JsYWNrb3V0LWxhc3RhYnd1cmYtc3Ryb21hdXNmYWxsLW1hc3NuYWhtZS5odG1s0gEA?oc=5'}], 'link': 'https://news.google.com/__i/rss/rd/articles/CBMiYmh0dHBzOi8vd3d3Lm1vcmdlbnBvc3QuZGUvcG9saXRpay9hcnRpY2xlMjM2NTkxODU5L2JsYWNrb3V0LWxhc3RhYnd1cmYtc3Ryb21hdXNmYWxsLW1hc3NuYWhtZS5odG1s0gEA?oc=5', 'id': 'CBMiYmh0dHBzOi8vd3d3Lm1vcmdlbnBvc3QuZGUvcG9saXRpay9hcnRpY2xlMjM2NTkxODU5L2JsYWNrb3V0LWxhc3RhYnd1cmYtc3Ryb21hdXNmYWxsLW1hc3NuYWhtZS5odG1s0gEA', 'guidislink': False, 'published': 'Tue, 04 Oct 2022 07:00:00 GMT', 'published_parsed': time.struct_time(tm_year=2022, tm_mon=10, tm_mday=4, tm_hour=7, tm_min=0, tm_sec=0, tm_wday=1, tm_yday=277, tm_isdst=0), 'summary': '<a href=\"https://news.google.com/__i/rss/rd/articles/CBMiYmh0dHBzOi8vd3d3Lm1vcmdlbnBvc3QuZGUvcG9saXRpay9hcnRpY2xlMjM2NTkxODU5L2JsYWNrb3V0LWxhc3RhYnd1cmYtc3Ryb21hdXNmYWxsLW1hc3NuYWhtZS5odG1s0gEA?oc=5\" target=\"_blank\">Stromausfälle: Was hat es mit dem Lastabwurf auf sich?</a>&nbsp;&nbsp;<font color=\"#6f6f6f\">Berliner Morgenpost</font>', 'summary_detail': {'type': 'text/html', 'language': None, 'base': '', 'value': '<a href=\"https://news.google.com/__i/rss/rd/articles/CBMiYmh0dHBzOi8vd3d3Lm1vcmdlbnBvc3QuZGUvcG9saXRpay9hcnRpY2xlMjM2NTkxODU5L2JsYWNrb3V0LWxhc3RhYnd1cmYtc3Ryb21hdXNmYWxsLW1hc3NuYWhtZS5odG1s0gEA?oc=5\" target=\"_blank\">Stromausfälle: Was hat es mit dem Lastabwurf auf sich?</a>&nbsp;&nbsp;<font color=\"#6f6f6f\">Berliner Morgenpost</font>'}, 'source': {'href': 'https://www.morgenpost.de', 'title': 'Berliner Morgenpost'}, 'sub_articles': []}, {'title': 'Brownout: Kleinere Stromabschaltungen sollen im Ernstfall Blackout verhindern - FOCUS Online', 'title_detail': {'type': 'text/plain', 'language': None, 'base': '', 'value': 'Brownout: Kleinere Stromabschaltungen sollen im Ernstfall Blackout verhindern - FOCUS Online'}, 'links': [{'rel': 'alternate', 'type': 'text/html', 'href': 'https://news.google.com/__i/rss/rd/articles/CBMiswFodHRwczovL3d3dy5mb2N1cy5kZS9pbW1vYmlsaWVuL3dvaG5lbi9sYXN0YWJ3dXJmLWZ1ZXItZGV1dHNjaGUtdmVyYnJhdWNoZXItcmVsZXZhbnQtYnJvd25vdXQta2xlaW5lcmUtc3Ryb21hYnNjaGFsdHVuZ2VuLXNvbGxlbi1pbS1lcm5zdGZhbGwtYmxhY2tvdXQtdmVyaGluZGVybl9pZF8xNzQwNTc0NzYuaHRtbNIBswFodHRwczovL2FtcC5mb2N1cy5kZS9pbW1vYmlsaWVuL3dvaG5lbi9sYXN0YWJ3dXJmLWZ1ZXItZGV1dHNjaGUtdmVyYnJhdWNoZXItcmVsZXZhbnQtYnJvd25vdXQta2xlaW5lcmUtc3Ryb21hYnNjaGFsdHVuZ2VuLXNvbGxlbi1pbS1lcm5zdGZhbGwtYmxhY2tvdXQtdmVyaGluZGVybl9pZF8xNzQwNTc0NzYuaHRtbA?oc=5'}], 'link': 'https://news.google.com/__i/rss/rd/articles/CBMiswFodHRwczovL3d3dy5mb2N1cy5kZS9pbW1vYmlsaWVuL3dvaG5lbi9sYXN0YWJ3dXJmLWZ1ZXItZGV1dHNjaGUtdmVyYnJhdWNoZXItcmVsZXZhbnQtYnJvd25vdXQta2xlaW5lcmUtc3Ryb21hYnNjaGFsdHVuZ2VuLXNvbGxlbi1pbS1lcm5zdGZhbGwtYmxhY2tvdXQtdmVyaGluZGVybl9pZF8xNzQwNTc0NzYuaHRtbNIBswFodHRwczovL2FtcC5mb2N1cy5kZS9pbW1vYmlsaWVuL3dvaG5lbi9sYXN0YWJ3dXJmLWZ1ZXItZGV1dHNjaGUtdmVyYnJhdWNoZXItcmVsZXZhbnQtYnJvd25vdXQta2xlaW5lcmUtc3Ryb21hYnNjaGFsdHVuZ2VuLXNvbGxlbi1pbS1lcm5zdGZhbGwtYmxhY2tvdXQtdmVyaGluZGVybl9pZF8xNzQwNTc0NzYuaHRtbA?oc=5', 'id': 'CBMiswFodHRwczovL3d3dy5mb2N1cy5kZS9pbW1vYmlsaWVuL3dvaG5lbi9sYXN0YWJ3dXJmLWZ1ZXItZGV1dHNjaGUtdmVyYnJhdWNoZXItcmVsZXZhbnQtYnJvd25vdXQta2xlaW5lcmUtc3Ryb21hYnNjaGFsdHVuZ2VuLXNvbGxlbi1pbS1lcm5zdGZhbGwtYmxhY2tvdXQtdmVyaGluZGVybl9pZF8xNzQwNTc0NzYuaHRtbNIBswFodHRwczovL2FtcC5mb2N1cy5kZS9pbW1vYmlsaWVuL3dvaG5lbi9sYXN0YWJ3dXJmLWZ1ZXItZGV1dHNjaGUtdmVyYnJhdWNoZXItcmVsZXZhbnQtYnJvd25vdXQta2xlaW5lcmUtc3Ryb21hYnNjaGFsdHVuZ2VuLXNvbGxlbi1pbS1lcm5zdGZhbGwtYmxhY2tvdXQtdmVyaGluZGVybl9pZF8xNzQwNTc0NzYuaHRtbA', 'guidislink': False, 'published': 'Tue, 01 Nov 2022 07:00:00 GMT', 'published_parsed': time.struct_time(tm_year=2022, tm_mon=11, tm_mday=1, tm_hour=7, tm_min=0, tm_sec=0, tm_wday=1, tm_yday=305, tm_isdst=0), 'summary': '<a href=\"https://news.google.com/__i/rss/rd/articles/CBMiswFodHRwczovL3d3dy5mb2N1cy5kZS9pbW1vYmlsaWVuL3dvaG5lbi9sYXN0YWJ3dXJmLWZ1ZXItZGV1dHNjaGUtdmVyYnJhdWNoZXItcmVsZXZhbnQtYnJvd25vdXQta2xlaW5lcmUtc3Ryb21hYnNjaGFsdHVuZ2VuLXNvbGxlbi1pbS1lcm5zdGZhbGwtYmxhY2tvdXQtdmVyaGluZGVybl9pZF8xNzQwNTc0NzYuaHRtbNIBswFodHRwczovL2FtcC5mb2N1cy5kZS9pbW1vYmlsaWVuL3dvaG5lbi9sYXN0YWJ3dXJmLWZ1ZXItZGV1dHNjaGUtdmVyYnJhdWNoZXItcmVsZXZhbnQtYnJvd25vdXQta2xlaW5lcmUtc3Ryb21hYnNjaGFsdHVuZ2VuLXNvbGxlbi1pbS1lcm5zdGZhbGwtYmxhY2tvdXQtdmVyaGluZGVybl9pZF8xNzQwNTc0NzYuaHRtbA?oc=5\" target=\"_blank\">Brownout: Kleinere Stromabschaltungen sollen im Ernstfall Blackout verhindern</a>&nbsp;&nbsp;<font color=\"#6f6f6f\">FOCUS Online</font>', 'summary_detail': {'type': 'text/html', 'language': None, 'base': '', 'value': '<a href=\"https://news.google.com/__i/rss/rd/articles/CBMiswFodHRwczovL3d3dy5mb2N1cy5kZS9pbW1vYmlsaWVuL3dvaG5lbi9sYXN0YWJ3dXJmLWZ1ZXItZGV1dHNjaGUtdmVyYnJhdWNoZXItcmVsZXZhbnQtYnJvd25vdXQta2xlaW5lcmUtc3Ryb21hYnNjaGFsdHVuZ2VuLXNvbGxlbi1pbS1lcm5zdGZhbGwtYmxhY2tvdXQtdmVyaGluZGVybl9pZF8xNzQwNTc0NzYuaHRtbNIBswFodHRwczovL2FtcC5mb2N1cy5kZS9pbW1vYmlsaWVuL3dvaG5lbi9sYXN0YWJ3dXJmLWZ1ZXItZGV1dHNjaGUtdmVyYnJhdWNoZXItcmVsZXZhbnQtYnJvd25vdXQta2xlaW5lcmUtc3Ryb21hYnNjaGFsdHVuZ2VuLXNvbGxlbi1pbS1lcm5zdGZhbGwtYmxhY2tvdXQtdmVyaGluZGVybl9pZF8xNzQwNTc0NzYuaHRtbA?oc=5\" target=\"_blank\">Brownout: Kleinere Stromabschaltungen sollen im Ernstfall Blackout verhindern</a>&nbsp;&nbsp;<font color=\"#6f6f6f\">FOCUS Online</font>'}, 'source': {'href': 'https://www.focus.de', 'title': 'FOCUS Online'}, 'sub_articles': []}, {'title': 'Fragen und Antworten - Ihre Fragen zum Thema Energie - SRF – Schweizer Radio und Fernsehen', 'title_detail': {'type': 'text/plain', 'language': None, 'base': '', 'value': 'Fragen und Antworten - Ihre Fragen zum Thema Energie - SRF – Schweizer Radio und Fernsehen'}, 'links': [{'rel': 'alternate', 'type': 'text/html', 'href': 'https://news.google.com/__i/rss/rd/articles/CBMiSmh0dHBzOi8vd3d3LnNyZi5jaC9uZXdzL2ZyYWdlbi11bmQtYW50d29ydGVuLWlocmUtZnJhZ2VuLXp1bS10aGVtYS1lbmVyZ2ll0gEA?oc=5'}], 'link': 'https://news.google.com/__i/rss/rd/articles/CBMiSmh0dHBzOi8vd3d3LnNyZi5jaC9uZXdzL2ZyYWdlbi11bmQtYW50d29ydGVuLWlocmUtZnJhZ2VuLXp1bS10aGVtYS1lbmVyZ2ll0gEA?oc=5', 'id': 'CBMiSmh0dHBzOi8vd3d3LnNyZi5jaC9uZXdzL2ZyYWdlbi11bmQtYW50d29ydGVuLWlocmUtZnJhZ2VuLXp1bS10aGVtYS1lbmVyZ2ll0gEA', 'guidislink': False, 'published': 'Thu, 17 Nov 2022 08:00:00 GMT', 'published_parsed': time.struct_time(tm_year=2022, tm_mon=11, tm_mday=17, tm_hour=8, tm_min=0, tm_sec=0, tm_wday=3, tm_yday=321, tm_isdst=0), 'summary': '<a href=\"https://news.google.com/__i/rss/rd/articles/CBMiSmh0dHBzOi8vd3d3LnNyZi5jaC9uZXdzL2ZyYWdlbi11bmQtYW50d29ydGVuLWlocmUtZnJhZ2VuLXp1bS10aGVtYS1lbmVyZ2ll0gEA?oc=5\" target=\"_blank\">Fragen und Antworten - Ihre Fragen zum Thema Energie</a>&nbsp;&nbsp;<font color=\"#6f6f6f\">SRF – Schweizer Radio und Fernsehen</font>', 'summary_detail': {'type': 'text/html', 'language': None, 'base': '', 'value': '<a href=\"https://news.google.com/__i/rss/rd/articles/CBMiSmh0dHBzOi8vd3d3LnNyZi5jaC9uZXdzL2ZyYWdlbi11bmQtYW50d29ydGVuLWlocmUtZnJhZ2VuLXp1bS10aGVtYS1lbmVyZ2ll0gEA?oc=5\" target=\"_blank\">Fragen und Antworten - Ihre Fragen zum Thema Energie</a>&nbsp;&nbsp;<font color=\"#6f6f6f\">SRF – Schweizer Radio und Fernsehen</font>'}, 'source': {'href': 'https://www.srf.ch', 'title': 'SRF – Schweizer Radio und Fernsehen'}, 'sub_articles': []}]}\n"
     ]
    }
   ],
   "source": [
    "#inntilizing the search to collect the Data Searching Loadshedding in Southe Africa in Germaney launge\n",
    "search = gn.search('Südafrika Lastabwurf und Energiekrise')\n",
    "print(search)"
   ]
  },
  {
   "cell_type": "code",
   "execution_count": null,
   "metadata": {
    "colab": {
     "base_uri": "https://localhost:8080/"
    },
    "id": "pd2d7rk7PMC6",
    "outputId": "c712f169-5091-4eaa-8228-9579f49eadc4",
    "scrolled": true
   },
   "outputs": [
    {
     "name": "stdout",
     "output_type": "stream",
     "text": [
      "{'title': 'Energiekrise in Südafrika: Wo Blackouts zum Alltag gehören - WELT - WELT', 'title_detail': {'type': 'text/plain', 'language': None, 'base': '', 'value': 'Energiekrise in Südafrika: Wo Blackouts zum Alltag gehören - WELT - WELT'}, 'links': [{'rel': 'alternate', 'type': 'text/html', 'href': 'https://news.google.com/__i/rss/rd/articles/CBMicmh0dHBzOi8vd3d3LndlbHQuZGUvcG9saXRpay9hdXNsYW5kL3BsdXMyNDI0NzIyOTcvRW5lcmdpZWtyaXNlLWluLVN1ZWRhZnJpa2EtV28tQmxhY2tvdXRzLXp1bS1BbGx0YWctZ2Vob2VyZW4uaHRtbNIBAA?oc=5'}], 'link': 'https://news.google.com/__i/rss/rd/articles/CBMicmh0dHBzOi8vd3d3LndlbHQuZGUvcG9saXRpay9hdXNsYW5kL3BsdXMyNDI0NzIyOTcvRW5lcmdpZWtyaXNlLWluLVN1ZWRhZnJpa2EtV28tQmxhY2tvdXRzLXp1bS1BbGx0YWctZ2Vob2VyZW4uaHRtbNIBAA?oc=5', 'id': 'CBMicmh0dHBzOi8vd3d3LndlbHQuZGUvcG9saXRpay9hdXNsYW5kL3BsdXMyNDI0NzIyOTcvRW5lcmdpZWtyaXNlLWluLVN1ZWRhZnJpa2EtV28tQmxhY2tvdXRzLXp1bS1BbGx0YWctZ2Vob2VyZW4uaHRtbNIBAA', 'guidislink': False, 'published': 'Sun, 04 Dec 2022 13:44:27 GMT', 'published_parsed': time.struct_time(tm_year=2022, tm_mon=12, tm_mday=4, tm_hour=13, tm_min=44, tm_sec=27, tm_wday=6, tm_yday=338, tm_isdst=0), 'summary': '<a href=\"https://news.google.com/__i/rss/rd/articles/CBMicmh0dHBzOi8vd3d3LndlbHQuZGUvcG9saXRpay9hdXNsYW5kL3BsdXMyNDI0NzIyOTcvRW5lcmdpZWtyaXNlLWluLVN1ZWRhZnJpa2EtV28tQmxhY2tvdXRzLXp1bS1BbGx0YWctZ2Vob2VyZW4uaHRtbNIBAA?oc=5\" target=\"_blank\">Energiekrise in Südafrika: Wo Blackouts zum Alltag gehören - WELT</a>&nbsp;&nbsp;<font color=\"#6f6f6f\">WELT</font>', 'summary_detail': {'type': 'text/html', 'language': None, 'base': '', 'value': '<a href=\"https://news.google.com/__i/rss/rd/articles/CBMicmh0dHBzOi8vd3d3LndlbHQuZGUvcG9saXRpay9hdXNsYW5kL3BsdXMyNDI0NzIyOTcvRW5lcmdpZWtyaXNlLWluLVN1ZWRhZnJpa2EtV28tQmxhY2tvdXRzLXp1bS1BbGx0YWctZ2Vob2VyZW4uaHRtbNIBAA?oc=5\" target=\"_blank\">Energiekrise in Südafrika: Wo Blackouts zum Alltag gehören - WELT</a>&nbsp;&nbsp;<font color=\"#6f6f6f\">WELT</font>'}, 'source': {'href': 'https://www.welt.de', 'title': 'WELT'}, 'sub_articles': []}\n",
      "{'title': 'Blackouts & Abschaltungen: Wie Südafrika mit seinem Strommangel umgeht - Handelsblatt', 'title_detail': {'type': 'text/plain', 'language': None, 'base': '', 'value': 'Blackouts & Abschaltungen: Wie Südafrika mit seinem Strommangel umgeht - Handelsblatt'}, 'links': [{'rel': 'alternate', 'type': 'text/html', 'href': 'https://news.google.com/__i/rss/rd/articles/CBMinwFodHRwczovL3d3dy5oYW5kZWxzYmxhdHQuY29tL3BvbGl0aWsvaW50ZXJuYXRpb25hbC9lbmVyZ2lla25hcHBoZWl0LWxlYmVuLW1pdC1kZW0tZ2VwbGFudGVuLWJsYWNrb3V0LXdpZS1zdWVkYWZyaWthLW1pdC1zZWluZW0tc3Ryb21tYW5nZWwtdW1nZWh0LzI4NjkzMjk4Lmh0bWzSAQA?oc=5'}], 'link': 'https://news.google.com/__i/rss/rd/articles/CBMinwFodHRwczovL3d3dy5oYW5kZWxzYmxhdHQuY29tL3BvbGl0aWsvaW50ZXJuYXRpb25hbC9lbmVyZ2lla25hcHBoZWl0LWxlYmVuLW1pdC1kZW0tZ2VwbGFudGVuLWJsYWNrb3V0LXdpZS1zdWVkYWZyaWthLW1pdC1zZWluZW0tc3Ryb21tYW5nZWwtdW1nZWh0LzI4NjkzMjk4Lmh0bWzSAQA?oc=5', 'id': 'CBMinwFodHRwczovL3d3dy5oYW5kZWxzYmxhdHQuY29tL3BvbGl0aWsvaW50ZXJuYXRpb25hbC9lbmVyZ2lla25hcHBoZWl0LWxlYmVuLW1pdC1kZW0tZ2VwbGFudGVuLWJsYWNrb3V0LXdpZS1zdWVkYWZyaWthLW1pdC1zZWluZW0tc3Ryb21tYW5nZWwtdW1nZWh0LzI4NjkzMjk4Lmh0bWzSAQA', 'guidislink': False, 'published': 'Thu, 22 Sep 2022 07:00:00 GMT', 'published_parsed': time.struct_time(tm_year=2022, tm_mon=9, tm_mday=22, tm_hour=7, tm_min=0, tm_sec=0, tm_wday=3, tm_yday=265, tm_isdst=0), 'summary': '<a href=\"https://news.google.com/__i/rss/rd/articles/CBMinwFodHRwczovL3d3dy5oYW5kZWxzYmxhdHQuY29tL3BvbGl0aWsvaW50ZXJuYXRpb25hbC9lbmVyZ2lla25hcHBoZWl0LWxlYmVuLW1pdC1kZW0tZ2VwbGFudGVuLWJsYWNrb3V0LXdpZS1zdWVkYWZyaWthLW1pdC1zZWluZW0tc3Ryb21tYW5nZWwtdW1nZWh0LzI4NjkzMjk4Lmh0bWzSAQA?oc=5\" target=\"_blank\">Blackouts & Abschaltungen: Wie Südafrika mit seinem Strommangel umgeht</a>&nbsp;&nbsp;<font color=\"#6f6f6f\">Handelsblatt </font>', 'summary_detail': {'type': 'text/html', 'language': None, 'base': '', 'value': '<a href=\"https://news.google.com/__i/rss/rd/articles/CBMinwFodHRwczovL3d3dy5oYW5kZWxzYmxhdHQuY29tL3BvbGl0aWsvaW50ZXJuYXRpb25hbC9lbmVyZ2lla25hcHBoZWl0LWxlYmVuLW1pdC1kZW0tZ2VwbGFudGVuLWJsYWNrb3V0LXdpZS1zdWVkYWZyaWthLW1pdC1zZWluZW0tc3Ryb21tYW5nZWwtdW1nZWh0LzI4NjkzMjk4Lmh0bWzSAQA?oc=5\" target=\"_blank\">Blackouts & Abschaltungen: Wie Südafrika mit seinem Strommangel umgeht</a>&nbsp;&nbsp;<font color=\"#6f6f6f\">Handelsblatt </font>'}, 'source': {'href': 'https://www.handelsblatt.com', 'title': 'Handelsblatt'}, 'sub_articles': []}\n",
      "{'title': 'Warnung vor „Lastabwurf“: Sitzen wir bald im Dunkeln wie die Südafrikaner? - BILD', 'title_detail': {'type': 'text/plain', 'language': None, 'base': '', 'value': 'Warnung vor „Lastabwurf“: Sitzen wir bald im Dunkeln wie die Südafrikaner? - BILD'}, 'links': [{'rel': 'alternate', 'type': 'text/html', 'href': 'https://news.google.com/__i/rss/rd/articles/CBMimAFodHRwczovL3d3dy5iaWxkLmRlL2JpbGQtcGx1cy9wb2xpdGlrL2F1c2xhbmQvcG9saXRpay1hdXNsYW5kL3dhcm51bmctdm9yLWxhc3RhYnd1cmYtc2l0emVuLXdpci1iYWxkLWltLWR1bmtlbG4td2llLWRpZS1zdWVkYWZyaWthbmVyLTgxMzQ1ODgwLmJpbGQuaHRtbNIBAA?oc=5'}], 'link': 'https://news.google.com/__i/rss/rd/articles/CBMimAFodHRwczovL3d3dy5iaWxkLmRlL2JpbGQtcGx1cy9wb2xpdGlrL2F1c2xhbmQvcG9saXRpay1hdXNsYW5kL3dhcm51bmctdm9yLWxhc3RhYnd1cmYtc2l0emVuLXdpci1iYWxkLWltLWR1bmtlbG4td2llLWRpZS1zdWVkYWZyaWthbmVyLTgxMzQ1ODgwLmJpbGQuaHRtbNIBAA?oc=5', 'id': 'CBMimAFodHRwczovL3d3dy5iaWxkLmRlL2JpbGQtcGx1cy9wb2xpdGlrL2F1c2xhbmQvcG9saXRpay1hdXNsYW5kL3dhcm51bmctdm9yLWxhc3RhYnd1cmYtc2l0emVuLXdpci1iYWxkLWltLWR1bmtlbG4td2llLWRpZS1zdWVkYWZyaWthbmVyLTgxMzQ1ODgwLmJpbGQuaHRtbNIBAA', 'guidislink': False, 'published': 'Sat, 17 Sep 2022 07:00:00 GMT', 'published_parsed': time.struct_time(tm_year=2022, tm_mon=9, tm_mday=17, tm_hour=7, tm_min=0, tm_sec=0, tm_wday=5, tm_yday=260, tm_isdst=0), 'summary': '<a href=\"https://news.google.com/__i/rss/rd/articles/CBMimAFodHRwczovL3d3dy5iaWxkLmRlL2JpbGQtcGx1cy9wb2xpdGlrL2F1c2xhbmQvcG9saXRpay1hdXNsYW5kL3dhcm51bmctdm9yLWxhc3RhYnd1cmYtc2l0emVuLXdpci1iYWxkLWltLWR1bmtlbG4td2llLWRpZS1zdWVkYWZyaWthbmVyLTgxMzQ1ODgwLmJpbGQuaHRtbNIBAA?oc=5\" target=\"_blank\">Warnung vor „Lastabwurf“: Sitzen wir bald im Dunkeln wie die Südafrikaner?</a>&nbsp;&nbsp;<font color=\"#6f6f6f\">BILD</font>', 'summary_detail': {'type': 'text/html', 'language': None, 'base': '', 'value': '<a href=\"https://news.google.com/__i/rss/rd/articles/CBMimAFodHRwczovL3d3dy5iaWxkLmRlL2JpbGQtcGx1cy9wb2xpdGlrL2F1c2xhbmQvcG9saXRpay1hdXNsYW5kL3dhcm51bmctdm9yLWxhc3RhYnd1cmYtc2l0emVuLXdpci1iYWxkLWltLWR1bmtlbG4td2llLWRpZS1zdWVkYWZyaWthbmVyLTgxMzQ1ODgwLmJpbGQuaHRtbNIBAA?oc=5\" target=\"_blank\">Warnung vor „Lastabwurf“: Sitzen wir bald im Dunkeln wie die Südafrikaner?</a>&nbsp;&nbsp;<font color=\"#6f6f6f\">BILD</font>'}, 'source': {'href': 'https://www.bild.de', 'title': 'BILD'}, 'sub_articles': []}\n",
      "{'title': 'Energiewende-Partnerschaften auf dem Vormarsch - Tagesspiegel Background', 'title_detail': {'type': 'text/plain', 'language': None, 'base': '', 'value': 'Energiewende-Partnerschaften auf dem Vormarsch - Tagesspiegel Background'}, 'links': [{'rel': 'alternate', 'type': 'text/html', 'href': 'https://news.google.com/__i/rss/rd/articles/CBMiX2h0dHBzOi8vYmFja2dyb3VuZC50YWdlc3NwaWVnZWwuZGUvZW5lcmdpZS1rbGltYS9lbmVyZ2lld2VuZGUtcGFydG5lcnNjaGFmdGVuLWF1Zi1kZW0tdm9ybWFyc2No0gEA?oc=5'}], 'link': 'https://news.google.com/__i/rss/rd/articles/CBMiX2h0dHBzOi8vYmFja2dyb3VuZC50YWdlc3NwaWVnZWwuZGUvZW5lcmdpZS1rbGltYS9lbmVyZ2lld2VuZGUtcGFydG5lcnNjaGFmdGVuLWF1Zi1kZW0tdm9ybWFyc2No0gEA?oc=5', 'id': 'CBMiX2h0dHBzOi8vYmFja2dyb3VuZC50YWdlc3NwaWVnZWwuZGUvZW5lcmdpZS1rbGltYS9lbmVyZ2lld2VuZGUtcGFydG5lcnNjaGFmdGVuLWF1Zi1kZW0tdm9ybWFyc2No0gEA', 'guidislink': False, 'published': 'Thu, 24 Nov 2022 05:04:07 GMT', 'published_parsed': time.struct_time(tm_year=2022, tm_mon=11, tm_mday=24, tm_hour=5, tm_min=4, tm_sec=7, tm_wday=3, tm_yday=328, tm_isdst=0), 'summary': '<a href=\"https://news.google.com/__i/rss/rd/articles/CBMiX2h0dHBzOi8vYmFja2dyb3VuZC50YWdlc3NwaWVnZWwuZGUvZW5lcmdpZS1rbGltYS9lbmVyZ2lld2VuZGUtcGFydG5lcnNjaGFmdGVuLWF1Zi1kZW0tdm9ybWFyc2No0gEA?oc=5\" target=\"_blank\">Energiewende-Partnerschaften auf dem Vormarsch</a>&nbsp;&nbsp;<font color=\"#6f6f6f\">Tagesspiegel Background</font>', 'summary_detail': {'type': 'text/html', 'language': None, 'base': '', 'value': '<a href=\"https://news.google.com/__i/rss/rd/articles/CBMiX2h0dHBzOi8vYmFja2dyb3VuZC50YWdlc3NwaWVnZWwuZGUvZW5lcmdpZS1rbGltYS9lbmVyZ2lld2VuZGUtcGFydG5lcnNjaGFmdGVuLWF1Zi1kZW0tdm9ybWFyc2No0gEA?oc=5\" target=\"_blank\">Energiewende-Partnerschaften auf dem Vormarsch</a>&nbsp;&nbsp;<font color=\"#6f6f6f\">Tagesspiegel Background</font>'}, 'source': {'href': 'https://background.tagesspiegel.de', 'title': 'Tagesspiegel Background'}, 'sub_articles': []}\n",
      "{'title': 'Angstwort „Lastabwurf“: Netzbetreiber warnt vor Stromabschaltungen! | Politik - BILD', 'title_detail': {'type': 'text/plain', 'language': None, 'base': '', 'value': 'Angstwort „Lastabwurf“: Netzbetreiber warnt vor Stromabschaltungen! | Politik - BILD'}, 'links': [{'rel': 'alternate', 'type': 'text/html', 'href': 'https://news.google.com/__i/rss/rd/articles/CBMijgFodHRwczovL3d3dy5iaWxkLmRlL2JpbGQtcGx1cy9wb2xpdGlrL2lubGFuZC9wb2xpdGlrLWlubGFuZC9hbmdzdHdvcnQtbGFzdGFid3VyZi1uZXR6YmV0cmVpYmVyLXdhcm50LXZvci1zdHJvbWFic2NoYWx0dW5nZW4tODEzNDMwNzYuYmlsZC5odG1s0gEA?oc=5'}], 'link': 'https://news.google.com/__i/rss/rd/articles/CBMijgFodHRwczovL3d3dy5iaWxkLmRlL2JpbGQtcGx1cy9wb2xpdGlrL2lubGFuZC9wb2xpdGlrLWlubGFuZC9hbmdzdHdvcnQtbGFzdGFid3VyZi1uZXR6YmV0cmVpYmVyLXdhcm50LXZvci1zdHJvbWFic2NoYWx0dW5nZW4tODEzNDMwNzYuYmlsZC5odG1s0gEA?oc=5', 'id': 'CBMijgFodHRwczovL3d3dy5iaWxkLmRlL2JpbGQtcGx1cy9wb2xpdGlrL2lubGFuZC9wb2xpdGlrLWlubGFuZC9hbmdzdHdvcnQtbGFzdGFid3VyZi1uZXR6YmV0cmVpYmVyLXdhcm50LXZvci1zdHJvbWFic2NoYWx0dW5nZW4tODEzNDMwNzYuYmlsZC5odG1s0gEA', 'guidislink': False, 'published': 'Fri, 16 Sep 2022 07:00:00 GMT', 'published_parsed': time.struct_time(tm_year=2022, tm_mon=9, tm_mday=16, tm_hour=7, tm_min=0, tm_sec=0, tm_wday=4, tm_yday=259, tm_isdst=0), 'summary': '<a href=\"https://news.google.com/__i/rss/rd/articles/CBMijgFodHRwczovL3d3dy5iaWxkLmRlL2JpbGQtcGx1cy9wb2xpdGlrL2lubGFuZC9wb2xpdGlrLWlubGFuZC9hbmdzdHdvcnQtbGFzdGFid3VyZi1uZXR6YmV0cmVpYmVyLXdhcm50LXZvci1zdHJvbWFic2NoYWx0dW5nZW4tODEzNDMwNzYuYmlsZC5odG1s0gEA?oc=5\" target=\"_blank\">Angstwort „Lastabwurf“: Netzbetreiber warnt vor Stromabschaltungen! | Politik</a>&nbsp;&nbsp;<font color=\"#6f6f6f\">BILD</font>', 'summary_detail': {'type': 'text/html', 'language': None, 'base': '', 'value': '<a href=\"https://news.google.com/__i/rss/rd/articles/CBMijgFodHRwczovL3d3dy5iaWxkLmRlL2JpbGQtcGx1cy9wb2xpdGlrL2lubGFuZC9wb2xpdGlrLWlubGFuZC9hbmdzdHdvcnQtbGFzdGFid3VyZi1uZXR6YmV0cmVpYmVyLXdhcm50LXZvci1zdHJvbWFic2NoYWx0dW5nZW4tODEzNDMwNzYuYmlsZC5odG1s0gEA?oc=5\" target=\"_blank\">Angstwort „Lastabwurf“: Netzbetreiber warnt vor Stromabschaltungen! | Politik</a>&nbsp;&nbsp;<font color=\"#6f6f6f\">BILD</font>'}, 'source': {'href': 'https://www.bild.de', 'title': 'BILD'}, 'sub_articles': []}\n",
      "{'title': 'Stromausfälle: Was hat es mit dem Lastabwurf auf sich? - Berliner Morgenpost', 'title_detail': {'type': 'text/plain', 'language': None, 'base': '', 'value': 'Stromausfälle: Was hat es mit dem Lastabwurf auf sich? - Berliner Morgenpost'}, 'links': [{'rel': 'alternate', 'type': 'text/html', 'href': 'https://news.google.com/__i/rss/rd/articles/CBMiYmh0dHBzOi8vd3d3Lm1vcmdlbnBvc3QuZGUvcG9saXRpay9hcnRpY2xlMjM2NTkxODU5L2JsYWNrb3V0LWxhc3RhYnd1cmYtc3Ryb21hdXNmYWxsLW1hc3NuYWhtZS5odG1s0gEA?oc=5'}], 'link': 'https://news.google.com/__i/rss/rd/articles/CBMiYmh0dHBzOi8vd3d3Lm1vcmdlbnBvc3QuZGUvcG9saXRpay9hcnRpY2xlMjM2NTkxODU5L2JsYWNrb3V0LWxhc3RhYnd1cmYtc3Ryb21hdXNmYWxsLW1hc3NuYWhtZS5odG1s0gEA?oc=5', 'id': 'CBMiYmh0dHBzOi8vd3d3Lm1vcmdlbnBvc3QuZGUvcG9saXRpay9hcnRpY2xlMjM2NTkxODU5L2JsYWNrb3V0LWxhc3RhYnd1cmYtc3Ryb21hdXNmYWxsLW1hc3NuYWhtZS5odG1s0gEA', 'guidislink': False, 'published': 'Tue, 04 Oct 2022 07:00:00 GMT', 'published_parsed': time.struct_time(tm_year=2022, tm_mon=10, tm_mday=4, tm_hour=7, tm_min=0, tm_sec=0, tm_wday=1, tm_yday=277, tm_isdst=0), 'summary': '<a href=\"https://news.google.com/__i/rss/rd/articles/CBMiYmh0dHBzOi8vd3d3Lm1vcmdlbnBvc3QuZGUvcG9saXRpay9hcnRpY2xlMjM2NTkxODU5L2JsYWNrb3V0LWxhc3RhYnd1cmYtc3Ryb21hdXNmYWxsLW1hc3NuYWhtZS5odG1s0gEA?oc=5\" target=\"_blank\">Stromausfälle: Was hat es mit dem Lastabwurf auf sich?</a>&nbsp;&nbsp;<font color=\"#6f6f6f\">Berliner Morgenpost</font>', 'summary_detail': {'type': 'text/html', 'language': None, 'base': '', 'value': '<a href=\"https://news.google.com/__i/rss/rd/articles/CBMiYmh0dHBzOi8vd3d3Lm1vcmdlbnBvc3QuZGUvcG9saXRpay9hcnRpY2xlMjM2NTkxODU5L2JsYWNrb3V0LWxhc3RhYnd1cmYtc3Ryb21hdXNmYWxsLW1hc3NuYWhtZS5odG1s0gEA?oc=5\" target=\"_blank\">Stromausfälle: Was hat es mit dem Lastabwurf auf sich?</a>&nbsp;&nbsp;<font color=\"#6f6f6f\">Berliner Morgenpost</font>'}, 'source': {'href': 'https://www.morgenpost.de', 'title': 'Berliner Morgenpost'}, 'sub_articles': []}\n",
      "{'title': 'Brownout: Kleinere Stromabschaltungen sollen im Ernstfall Blackout verhindern - FOCUS Online', 'title_detail': {'type': 'text/plain', 'language': None, 'base': '', 'value': 'Brownout: Kleinere Stromabschaltungen sollen im Ernstfall Blackout verhindern - FOCUS Online'}, 'links': [{'rel': 'alternate', 'type': 'text/html', 'href': 'https://news.google.com/__i/rss/rd/articles/CBMiswFodHRwczovL3d3dy5mb2N1cy5kZS9pbW1vYmlsaWVuL3dvaG5lbi9sYXN0YWJ3dXJmLWZ1ZXItZGV1dHNjaGUtdmVyYnJhdWNoZXItcmVsZXZhbnQtYnJvd25vdXQta2xlaW5lcmUtc3Ryb21hYnNjaGFsdHVuZ2VuLXNvbGxlbi1pbS1lcm5zdGZhbGwtYmxhY2tvdXQtdmVyaGluZGVybl9pZF8xNzQwNTc0NzYuaHRtbNIBswFodHRwczovL2FtcC5mb2N1cy5kZS9pbW1vYmlsaWVuL3dvaG5lbi9sYXN0YWJ3dXJmLWZ1ZXItZGV1dHNjaGUtdmVyYnJhdWNoZXItcmVsZXZhbnQtYnJvd25vdXQta2xlaW5lcmUtc3Ryb21hYnNjaGFsdHVuZ2VuLXNvbGxlbi1pbS1lcm5zdGZhbGwtYmxhY2tvdXQtdmVyaGluZGVybl9pZF8xNzQwNTc0NzYuaHRtbA?oc=5'}], 'link': 'https://news.google.com/__i/rss/rd/articles/CBMiswFodHRwczovL3d3dy5mb2N1cy5kZS9pbW1vYmlsaWVuL3dvaG5lbi9sYXN0YWJ3dXJmLWZ1ZXItZGV1dHNjaGUtdmVyYnJhdWNoZXItcmVsZXZhbnQtYnJvd25vdXQta2xlaW5lcmUtc3Ryb21hYnNjaGFsdHVuZ2VuLXNvbGxlbi1pbS1lcm5zdGZhbGwtYmxhY2tvdXQtdmVyaGluZGVybl9pZF8xNzQwNTc0NzYuaHRtbNIBswFodHRwczovL2FtcC5mb2N1cy5kZS9pbW1vYmlsaWVuL3dvaG5lbi9sYXN0YWJ3dXJmLWZ1ZXItZGV1dHNjaGUtdmVyYnJhdWNoZXItcmVsZXZhbnQtYnJvd25vdXQta2xlaW5lcmUtc3Ryb21hYnNjaGFsdHVuZ2VuLXNvbGxlbi1pbS1lcm5zdGZhbGwtYmxhY2tvdXQtdmVyaGluZGVybl9pZF8xNzQwNTc0NzYuaHRtbA?oc=5', 'id': 'CBMiswFodHRwczovL3d3dy5mb2N1cy5kZS9pbW1vYmlsaWVuL3dvaG5lbi9sYXN0YWJ3dXJmLWZ1ZXItZGV1dHNjaGUtdmVyYnJhdWNoZXItcmVsZXZhbnQtYnJvd25vdXQta2xlaW5lcmUtc3Ryb21hYnNjaGFsdHVuZ2VuLXNvbGxlbi1pbS1lcm5zdGZhbGwtYmxhY2tvdXQtdmVyaGluZGVybl9pZF8xNzQwNTc0NzYuaHRtbNIBswFodHRwczovL2FtcC5mb2N1cy5kZS9pbW1vYmlsaWVuL3dvaG5lbi9sYXN0YWJ3dXJmLWZ1ZXItZGV1dHNjaGUtdmVyYnJhdWNoZXItcmVsZXZhbnQtYnJvd25vdXQta2xlaW5lcmUtc3Ryb21hYnNjaGFsdHVuZ2VuLXNvbGxlbi1pbS1lcm5zdGZhbGwtYmxhY2tvdXQtdmVyaGluZGVybl9pZF8xNzQwNTc0NzYuaHRtbA', 'guidislink': False, 'published': 'Tue, 01 Nov 2022 07:00:00 GMT', 'published_parsed': time.struct_time(tm_year=2022, tm_mon=11, tm_mday=1, tm_hour=7, tm_min=0, tm_sec=0, tm_wday=1, tm_yday=305, tm_isdst=0), 'summary': '<a href=\"https://news.google.com/__i/rss/rd/articles/CBMiswFodHRwczovL3d3dy5mb2N1cy5kZS9pbW1vYmlsaWVuL3dvaG5lbi9sYXN0YWJ3dXJmLWZ1ZXItZGV1dHNjaGUtdmVyYnJhdWNoZXItcmVsZXZhbnQtYnJvd25vdXQta2xlaW5lcmUtc3Ryb21hYnNjaGFsdHVuZ2VuLXNvbGxlbi1pbS1lcm5zdGZhbGwtYmxhY2tvdXQtdmVyaGluZGVybl9pZF8xNzQwNTc0NzYuaHRtbNIBswFodHRwczovL2FtcC5mb2N1cy5kZS9pbW1vYmlsaWVuL3dvaG5lbi9sYXN0YWJ3dXJmLWZ1ZXItZGV1dHNjaGUtdmVyYnJhdWNoZXItcmVsZXZhbnQtYnJvd25vdXQta2xlaW5lcmUtc3Ryb21hYnNjaGFsdHVuZ2VuLXNvbGxlbi1pbS1lcm5zdGZhbGwtYmxhY2tvdXQtdmVyaGluZGVybl9pZF8xNzQwNTc0NzYuaHRtbA?oc=5\" target=\"_blank\">Brownout: Kleinere Stromabschaltungen sollen im Ernstfall Blackout verhindern</a>&nbsp;&nbsp;<font color=\"#6f6f6f\">FOCUS Online</font>', 'summary_detail': {'type': 'text/html', 'language': None, 'base': '', 'value': '<a href=\"https://news.google.com/__i/rss/rd/articles/CBMiswFodHRwczovL3d3dy5mb2N1cy5kZS9pbW1vYmlsaWVuL3dvaG5lbi9sYXN0YWJ3dXJmLWZ1ZXItZGV1dHNjaGUtdmVyYnJhdWNoZXItcmVsZXZhbnQtYnJvd25vdXQta2xlaW5lcmUtc3Ryb21hYnNjaGFsdHVuZ2VuLXNvbGxlbi1pbS1lcm5zdGZhbGwtYmxhY2tvdXQtdmVyaGluZGVybl9pZF8xNzQwNTc0NzYuaHRtbNIBswFodHRwczovL2FtcC5mb2N1cy5kZS9pbW1vYmlsaWVuL3dvaG5lbi9sYXN0YWJ3dXJmLWZ1ZXItZGV1dHNjaGUtdmVyYnJhdWNoZXItcmVsZXZhbnQtYnJvd25vdXQta2xlaW5lcmUtc3Ryb21hYnNjaGFsdHVuZ2VuLXNvbGxlbi1pbS1lcm5zdGZhbGwtYmxhY2tvdXQtdmVyaGluZGVybl9pZF8xNzQwNTc0NzYuaHRtbA?oc=5\" target=\"_blank\">Brownout: Kleinere Stromabschaltungen sollen im Ernstfall Blackout verhindern</a>&nbsp;&nbsp;<font color=\"#6f6f6f\">FOCUS Online</font>'}, 'source': {'href': 'https://www.focus.de', 'title': 'FOCUS Online'}, 'sub_articles': []}\n",
      "{'title': 'Fragen und Antworten - Ihre Fragen zum Thema Energie - SRF – Schweizer Radio und Fernsehen', 'title_detail': {'type': 'text/plain', 'language': None, 'base': '', 'value': 'Fragen und Antworten - Ihre Fragen zum Thema Energie - SRF – Schweizer Radio und Fernsehen'}, 'links': [{'rel': 'alternate', 'type': 'text/html', 'href': 'https://news.google.com/__i/rss/rd/articles/CBMiSmh0dHBzOi8vd3d3LnNyZi5jaC9uZXdzL2ZyYWdlbi11bmQtYW50d29ydGVuLWlocmUtZnJhZ2VuLXp1bS10aGVtYS1lbmVyZ2ll0gEA?oc=5'}], 'link': 'https://news.google.com/__i/rss/rd/articles/CBMiSmh0dHBzOi8vd3d3LnNyZi5jaC9uZXdzL2ZyYWdlbi11bmQtYW50d29ydGVuLWlocmUtZnJhZ2VuLXp1bS10aGVtYS1lbmVyZ2ll0gEA?oc=5', 'id': 'CBMiSmh0dHBzOi8vd3d3LnNyZi5jaC9uZXdzL2ZyYWdlbi11bmQtYW50d29ydGVuLWlocmUtZnJhZ2VuLXp1bS10aGVtYS1lbmVyZ2ll0gEA', 'guidislink': False, 'published': 'Thu, 17 Nov 2022 08:00:00 GMT', 'published_parsed': time.struct_time(tm_year=2022, tm_mon=11, tm_mday=17, tm_hour=8, tm_min=0, tm_sec=0, tm_wday=3, tm_yday=321, tm_isdst=0), 'summary': '<a href=\"https://news.google.com/__i/rss/rd/articles/CBMiSmh0dHBzOi8vd3d3LnNyZi5jaC9uZXdzL2ZyYWdlbi11bmQtYW50d29ydGVuLWlocmUtZnJhZ2VuLXp1bS10aGVtYS1lbmVyZ2ll0gEA?oc=5\" target=\"_blank\">Fragen und Antworten - Ihre Fragen zum Thema Energie</a>&nbsp;&nbsp;<font color=\"#6f6f6f\">SRF – Schweizer Radio und Fernsehen</font>', 'summary_detail': {'type': 'text/html', 'language': None, 'base': '', 'value': '<a href=\"https://news.google.com/__i/rss/rd/articles/CBMiSmh0dHBzOi8vd3d3LnNyZi5jaC9uZXdzL2ZyYWdlbi11bmQtYW50d29ydGVuLWlocmUtZnJhZ2VuLXp1bS10aGVtYS1lbmVyZ2ll0gEA?oc=5\" target=\"_blank\">Fragen und Antworten - Ihre Fragen zum Thema Energie</a>&nbsp;&nbsp;<font color=\"#6f6f6f\">SRF – Schweizer Radio und Fernsehen</font>'}, 'source': {'href': 'https://www.srf.ch', 'title': 'SRF – Schweizer Radio und Fernsehen'}, 'sub_articles': []}\n"
     ]
    }
   ],
   "source": [
    "#we want the Data to be more entries\n",
    "for i in search['entries']:\n",
    "    print(i)"
   ]
  },
  {
   "cell_type": "code",
   "execution_count": null,
   "metadata": {
    "colab": {
     "base_uri": "https://localhost:8080/"
    },
    "id": "Qzu6nKrtS5Id",
    "outputId": "3bc40a12-0b30-4539-a100-e7e7bbc2c816"
   },
   "outputs": [
    {
     "name": "stdout",
     "output_type": "stream",
     "text": [
      "Energiekrise in Südafrika: Wo Blackouts zum Alltag gehören - WELT - WELT\n",
      "Blackouts & Abschaltungen: Wie Südafrika mit seinem Strommangel umgeht - Handelsblatt\n",
      "Warnung vor „Lastabwurf“: Sitzen wir bald im Dunkeln wie die Südafrikaner? - BILD\n",
      "Energiewende-Partnerschaften auf dem Vormarsch - Tagesspiegel Background\n",
      "Angstwort „Lastabwurf“: Netzbetreiber warnt vor Stromabschaltungen! | Politik - BILD\n",
      "Stromausfälle: Was hat es mit dem Lastabwurf auf sich? - Berliner Morgenpost\n",
      "Brownout: Kleinere Stromabschaltungen sollen im Ernstfall Blackout verhindern - FOCUS Online\n",
      "Fragen und Antworten - Ihre Fragen zum Thema Energie - SRF – Schweizer Radio und Fernsehen\n"
     ]
    }
   ],
   "source": [
    "# here we wanna see the Data sorted in Titled actual titles \n",
    "articles = search['entries']\n",
    "for i in articles:\n",
    "    print(i.title)"
   ]
  },
  {
   "cell_type": "code",
   "execution_count": null,
   "metadata": {},
   "outputs": [],
   "source": []
  },
  {
   "cell_type": "code",
   "execution_count": null,
   "metadata": {
    "colab": {
     "base_uri": "https://localhost:8080/"
    },
    "id": "JBP9krDPS5eE",
    "outputId": "2b02e7da-d506-46a9-b885-516314471885"
   },
   "outputs": [
    {
     "name": "stdout",
     "output_type": "stream",
     "text": [
      "Energiekrise in Südafrika: Wo Blackouts zum Alltag gehören - WELT - WELT\n",
      "Blackouts & Abschaltungen: Wie Südafrika mit seinem Strommangel umgeht - Handelsblatt\n",
      "Warnung vor „Lastabwurf“: Sitzen wir bald im Dunkeln wie die Südafrikaner? - BILD\n",
      "Energiewende-Partnerschaften auf dem Vormarsch - Tagesspiegel Background\n",
      "Angstwort „Lastabwurf“: Netzbetreiber warnt vor Stromabschaltungen! | Politik - BILD\n",
      "Stromausfälle: Was hat es mit dem Lastabwurf auf sich? - Berliner Morgenpost\n",
      "Brownout: Kleinere Stromabschaltungen sollen im Ernstfall Blackout verhindern - FOCUS Online\n",
      "Fragen und Antworten - Ihre Fragen zum Thema Energie - SRF – Schweizer Radio und Fernsehen\n"
     ]
    }
   ],
   "source": [
    "def get_titles(search):\n",
    "    gn=GoogleNews(lang='de',country='DE')\n",
    "    search = gn.search(search)\n",
    "    articles = search['entries']\n",
    "      for i in articles:\n",
    "        print(i.title)\n",
    "return \n",
    "#here you can Enter the serch titlr in\n",
    "get_titles('Südafrika Lastabwurf und Energiekrise')\n"
   ]
  },
  {
   "cell_type": "code",
   "execution_count": null,
   "metadata": {
    "colab": {
     "base_uri": "https://localhost:8080/"
    },
    "id": "WYz5PZ8aWd42",
    "outputId": "f3a0478e-df6e-4c8a-813b-df8d37d2d33f",
    "scrolled": true
   },
   "outputs": [
    {
     "data": {
      "text/plain": [
       "[{'title': 'Energiekrise in Südafrika: Wo Blackouts zum Alltag gehören - WELT - WELT',\n",
       "  'link': 'https://news.google.com/__i/rss/rd/articles/CBMicmh0dHBzOi8vd3d3LndlbHQuZGUvcG9saXRpay9hdXNsYW5kL3BsdXMyNDI0NzIyOTcvRW5lcmdpZWtyaXNlLWluLVN1ZWRhZnJpa2EtV28tQmxhY2tvdXRzLXp1bS1BbGx0YWctZ2Vob2VyZW4uaHRtbNIBAA?oc=5',\n",
       "  'published': 'Sun, 04 Dec 2022 13:44:27 GMT'},\n",
       " {'title': 'Blackouts & Abschaltungen: Wie Südafrika mit seinem Strommangel umgeht - Handelsblatt',\n",
       "  'link': 'https://news.google.com/__i/rss/rd/articles/CBMinwFodHRwczovL3d3dy5oYW5kZWxzYmxhdHQuY29tL3BvbGl0aWsvaW50ZXJuYXRpb25hbC9lbmVyZ2lla25hcHBoZWl0LWxlYmVuLW1pdC1kZW0tZ2VwbGFudGVuLWJsYWNrb3V0LXdpZS1zdWVkYWZyaWthLW1pdC1zZWluZW0tc3Ryb21tYW5nZWwtdW1nZWh0LzI4NjkzMjk4Lmh0bWzSAQA?oc=5',\n",
       "  'published': 'Thu, 22 Sep 2022 07:00:00 GMT'},\n",
       " {'title': 'Warnung vor „Lastabwurf“: Sitzen wir bald im Dunkeln wie die Südafrikaner? - BILD',\n",
       "  'link': 'https://news.google.com/__i/rss/rd/articles/CBMimAFodHRwczovL3d3dy5iaWxkLmRlL2JpbGQtcGx1cy9wb2xpdGlrL2F1c2xhbmQvcG9saXRpay1hdXNsYW5kL3dhcm51bmctdm9yLWxhc3RhYnd1cmYtc2l0emVuLXdpci1iYWxkLWltLWR1bmtlbG4td2llLWRpZS1zdWVkYWZyaWthbmVyLTgxMzQ1ODgwLmJpbGQuaHRtbNIBAA?oc=5',\n",
       "  'published': 'Sat, 17 Sep 2022 07:00:00 GMT'},\n",
       " {'title': 'Energiewende-Partnerschaften auf dem Vormarsch - Tagesspiegel Background',\n",
       "  'link': 'https://news.google.com/__i/rss/rd/articles/CBMiX2h0dHBzOi8vYmFja2dyb3VuZC50YWdlc3NwaWVnZWwuZGUvZW5lcmdpZS1rbGltYS9lbmVyZ2lld2VuZGUtcGFydG5lcnNjaGFmdGVuLWF1Zi1kZW0tdm9ybWFyc2No0gEA?oc=5',\n",
       "  'published': 'Thu, 24 Nov 2022 05:04:07 GMT'},\n",
       " {'title': 'Angstwort „Lastabwurf“: Netzbetreiber warnt vor Stromabschaltungen! | Politik - BILD',\n",
       "  'link': 'https://news.google.com/__i/rss/rd/articles/CBMijgFodHRwczovL3d3dy5iaWxkLmRlL2JpbGQtcGx1cy9wb2xpdGlrL2lubGFuZC9wb2xpdGlrLWlubGFuZC9hbmdzdHdvcnQtbGFzdGFid3VyZi1uZXR6YmV0cmVpYmVyLXdhcm50LXZvci1zdHJvbWFic2NoYWx0dW5nZW4tODEzNDMwNzYuYmlsZC5odG1s0gEA?oc=5',\n",
       "  'published': 'Fri, 16 Sep 2022 07:00:00 GMT'},\n",
       " {'title': 'Stromausfälle: Was hat es mit dem Lastabwurf auf sich? - Berliner Morgenpost',\n",
       "  'link': 'https://news.google.com/__i/rss/rd/articles/CBMiYmh0dHBzOi8vd3d3Lm1vcmdlbnBvc3QuZGUvcG9saXRpay9hcnRpY2xlMjM2NTkxODU5L2JsYWNrb3V0LWxhc3RhYnd1cmYtc3Ryb21hdXNmYWxsLW1hc3NuYWhtZS5odG1s0gEA?oc=5',\n",
       "  'published': 'Tue, 04 Oct 2022 07:00:00 GMT'},\n",
       " {'title': 'Brownout: Kleinere Stromabschaltungen sollen im Ernstfall Blackout verhindern - FOCUS Online',\n",
       "  'link': 'https://news.google.com/__i/rss/rd/articles/CBMiswFodHRwczovL3d3dy5mb2N1cy5kZS9pbW1vYmlsaWVuL3dvaG5lbi9sYXN0YWJ3dXJmLWZ1ZXItZGV1dHNjaGUtdmVyYnJhdWNoZXItcmVsZXZhbnQtYnJvd25vdXQta2xlaW5lcmUtc3Ryb21hYnNjaGFsdHVuZ2VuLXNvbGxlbi1pbS1lcm5zdGZhbGwtYmxhY2tvdXQtdmVyaGluZGVybl9pZF8xNzQwNTc0NzYuaHRtbNIBswFodHRwczovL2FtcC5mb2N1cy5kZS9pbW1vYmlsaWVuL3dvaG5lbi9sYXN0YWJ3dXJmLWZ1ZXItZGV1dHNjaGUtdmVyYnJhdWNoZXItcmVsZXZhbnQtYnJvd25vdXQta2xlaW5lcmUtc3Ryb21hYnNjaGFsdHVuZ2VuLXNvbGxlbi1pbS1lcm5zdGZhbGwtYmxhY2tvdXQtdmVyaGluZGVybl9pZF8xNzQwNTc0NzYuaHRtbA?oc=5',\n",
       "  'published': 'Tue, 01 Nov 2022 07:00:00 GMT'},\n",
       " {'title': 'Fragen und Antworten - Ihre Fragen zum Thema Energie - SRF – Schweizer Radio und Fernsehen',\n",
       "  'link': 'https://news.google.com/__i/rss/rd/articles/CBMiSmh0dHBzOi8vd3d3LnNyZi5jaC9uZXdzL2ZyYWdlbi11bmQtYW50d29ydGVuLWlocmUtZnJhZ2VuLXp1bS10aGVtYS1lbmVyZ2ll0gEA?oc=5',\n",
       "  'published': 'Thu, 17 Nov 2022 08:00:00 GMT'}]"
      ]
     },
     "execution_count": 9,
     "metadata": {},
     "output_type": "execute_result"
    }
   ],
   "source": [
    "#the Filtering Function to get `keyword of the News using dictinaries\n",
    "def get_titles(keyword):\n",
    "    news= []\n",
    "    gn=GoogleNews(lang='de',country='DE')\n",
    "    search = gn.search(keyword)\n",
    "    articles = search['entries']\n",
    "    for i in articles:\n",
    "        article= {'title': i.title, 'link': i.link,\"published\":i.published}\n",
    "        news.append(article)\n",
    "return news\n",
    "#here you can Enter the serch in germany and print the Data\n",
    "data = get_titles(\"Südafrika Lastabwurf und Energiekrise\")\n",
    "data\n",
    "\n"
   ]
  },
  {
   "cell_type": "markdown",
   "metadata": {},
   "source": [
    "## Sorthing and Cleaning the Data into Title, Linked and Puplished Date"
   ]
  },
  {
   "cell_type": "code",
   "execution_count": null,
   "metadata": {
    "colab": {
     "base_uri": "https://localhost:8080/",
     "height": 204
    },
    "id": "WD2_BymXY_fB",
    "outputId": "2a24aa9d-f810-42fd-83bd-28ba86a1b83f"
   },
   "outputs": [
    {
     "data": {
      "text/html": [
       "\n",
       "  <div id=\"df-9f099279-3c35-4cb6-89be-799514be82ff\">\n",
       "    <div class=\"colab-df-container\">\n",
       "      <div>\n",
       "<style scoped>\n",
       "    .dataframe tbody tr th:only-of-type {\n",
       "        vertical-align: middle;\n",
       "    }\n",
       "\n",
       "    .dataframe tbody tr th {\n",
       "        vertical-align: top;\n",
       "    }\n",
       "\n",
       "    .dataframe thead th {\n",
       "        text-align: right;\n",
       "    }\n",
       "</style>\n",
       "<table border=\"1\" class=\"dataframe\">\n",
       "  <thead>\n",
       "    <tr style=\"text-align: right;\">\n",
       "      <th></th>\n",
       "      <th>title</th>\n",
       "      <th>link</th>\n",
       "      <th>published</th>\n",
       "    </tr>\n",
       "  </thead>\n",
       "  <tbody>\n",
       "    <tr>\n",
       "      <th>0</th>\n",
       "      <td>Energiekrise in Südafrika: Wo Blackouts zum Al...</td>\n",
       "      <td>https://news.google.com/__i/rss/rd/articles/CB...</td>\n",
       "      <td>Sun, 04 Dec 2022 13:44:27 GMT</td>\n",
       "    </tr>\n",
       "    <tr>\n",
       "      <th>1</th>\n",
       "      <td>Blackouts &amp; Abschaltungen: Wie Südafrika mit s...</td>\n",
       "      <td>https://news.google.com/__i/rss/rd/articles/CB...</td>\n",
       "      <td>Thu, 22 Sep 2022 07:00:00 GMT</td>\n",
       "    </tr>\n",
       "    <tr>\n",
       "      <th>2</th>\n",
       "      <td>Warnung vor „Lastabwurf“: Sitzen wir bald im D...</td>\n",
       "      <td>https://news.google.com/__i/rss/rd/articles/CB...</td>\n",
       "      <td>Sat, 17 Sep 2022 07:00:00 GMT</td>\n",
       "    </tr>\n",
       "    <tr>\n",
       "      <th>3</th>\n",
       "      <td>Energiewende-Partnerschaften auf dem Vormarsch...</td>\n",
       "      <td>https://news.google.com/__i/rss/rd/articles/CB...</td>\n",
       "      <td>Thu, 24 Nov 2022 05:04:07 GMT</td>\n",
       "    </tr>\n",
       "    <tr>\n",
       "      <th>4</th>\n",
       "      <td>Angstwort „Lastabwurf“: Netzbetreiber warnt vo...</td>\n",
       "      <td>https://news.google.com/__i/rss/rd/articles/CB...</td>\n",
       "      <td>Fri, 16 Sep 2022 07:00:00 GMT</td>\n",
       "    </tr>\n",
       "  </tbody>\n",
       "</table>\n",
       "</div>\n",
       "      <button class=\"colab-df-convert\" onclick=\"convertToInteractive('df-9f099279-3c35-4cb6-89be-799514be82ff')\"\n",
       "              title=\"Convert this dataframe to an interactive table.\"\n",
       "              style=\"display:none;\">\n",
       "        \n",
       "  <svg xmlns=\"http://www.w3.org/2000/svg\" height=\"24px\"viewBox=\"0 0 24 24\"\n",
       "       width=\"24px\">\n",
       "    <path d=\"M0 0h24v24H0V0z\" fill=\"none\"/>\n",
       "    <path d=\"M18.56 5.44l.94 2.06.94-2.06 2.06-.94-2.06-.94-.94-2.06-.94 2.06-2.06.94zm-11 1L8.5 8.5l.94-2.06 2.06-.94-2.06-.94L8.5 2.5l-.94 2.06-2.06.94zm10 10l.94 2.06.94-2.06 2.06-.94-2.06-.94-.94-2.06-.94 2.06-2.06.94z\"/><path d=\"M17.41 7.96l-1.37-1.37c-.4-.4-.92-.59-1.43-.59-.52 0-1.04.2-1.43.59L10.3 9.45l-7.72 7.72c-.78.78-.78 2.05 0 2.83L4 21.41c.39.39.9.59 1.41.59.51 0 1.02-.2 1.41-.59l7.78-7.78 2.81-2.81c.8-.78.8-2.07 0-2.86zM5.41 20L4 18.59l7.72-7.72 1.47 1.35L5.41 20z\"/>\n",
       "  </svg>\n",
       "      </button>\n",
       "      \n",
       "  <style>\n",
       "    .colab-df-container {\n",
       "      display:flex;\n",
       "      flex-wrap:wrap;\n",
       "      gap: 12px;\n",
       "    }\n",
       "\n",
       "    .colab-df-convert {\n",
       "      background-color: #E8F0FE;\n",
       "      border: none;\n",
       "      border-radius: 50%;\n",
       "      cursor: pointer;\n",
       "      display: none;\n",
       "      fill: #1967D2;\n",
       "      height: 32px;\n",
       "      padding: 0 0 0 0;\n",
       "      width: 32px;\n",
       "    }\n",
       "\n",
       "    .colab-df-convert:hover {\n",
       "      background-color: #E2EBFA;\n",
       "      box-shadow: 0px 1px 2px rgba(60, 64, 67, 0.3), 0px 1px 3px 1px rgba(60, 64, 67, 0.15);\n",
       "      fill: #174EA6;\n",
       "    }\n",
       "\n",
       "    [theme=dark] .colab-df-convert {\n",
       "      background-color: #3B4455;\n",
       "      fill: #D2E3FC;\n",
       "    }\n",
       "\n",
       "    [theme=dark] .colab-df-convert:hover {\n",
       "      background-color: #434B5C;\n",
       "      box-shadow: 0px 1px 3px 1px rgba(0, 0, 0, 0.15);\n",
       "      filter: drop-shadow(0px 1px 2px rgba(0, 0, 0, 0.3));\n",
       "      fill: #FFFFFF;\n",
       "    }\n",
       "  </style>\n",
       "\n",
       "      <script>\n",
       "        const buttonEl =\n",
       "          document.querySelector('#df-9f099279-3c35-4cb6-89be-799514be82ff button.colab-df-convert');\n",
       "        buttonEl.style.display =\n",
       "          google.colab.kernel.accessAllowed ? 'block' : 'none';\n",
       "\n",
       "        async function convertToInteractive(key) {\n",
       "          const element = document.querySelector('#df-9f099279-3c35-4cb6-89be-799514be82ff');\n",
       "          const dataTable =\n",
       "            await google.colab.kernel.invokeFunction('convertToInteractive',\n",
       "                                                     [key], {});\n",
       "          if (!dataTable) return;\n",
       "\n",
       "          const docLinkHtml = 'Like what you see? Visit the ' +\n",
       "            '<a target=\"_blank\" href=https://colab.research.google.com/notebooks/data_table.ipynb>data table notebook</a>'\n",
       "            + ' to learn more about interactive tables.';\n",
       "          element.innerHTML = '';\n",
       "          dataTable['output_type'] = 'display_data';\n",
       "          await google.colab.output.renderOutput(dataTable, element);\n",
       "          const docLink = document.createElement('div');\n",
       "          docLink.innerHTML = docLinkHtml;\n",
       "          element.appendChild(docLink);\n",
       "        }\n",
       "      </script>\n",
       "    </div>\n",
       "  </div>\n",
       "  "
      ],
      "text/plain": [
       "                                               title  \\\n",
       "0  Energiekrise in Südafrika: Wo Blackouts zum Al...   \n",
       "1  Blackouts & Abschaltungen: Wie Südafrika mit s...   \n",
       "2  Warnung vor „Lastabwurf“: Sitzen wir bald im D...   \n",
       "3  Energiewende-Partnerschaften auf dem Vormarsch...   \n",
       "4  Angstwort „Lastabwurf“: Netzbetreiber warnt vo...   \n",
       "\n",
       "                                                link  \\\n",
       "0  https://news.google.com/__i/rss/rd/articles/CB...   \n",
       "1  https://news.google.com/__i/rss/rd/articles/CB...   \n",
       "2  https://news.google.com/__i/rss/rd/articles/CB...   \n",
       "3  https://news.google.com/__i/rss/rd/articles/CB...   \n",
       "4  https://news.google.com/__i/rss/rd/articles/CB...   \n",
       "\n",
       "                       published  \n",
       "0  Sun, 04 Dec 2022 13:44:27 GMT  \n",
       "1  Thu, 22 Sep 2022 07:00:00 GMT  \n",
       "2  Sat, 17 Sep 2022 07:00:00 GMT  \n",
       "3  Thu, 24 Nov 2022 05:04:07 GMT  \n",
       "4  Fri, 16 Sep 2022 07:00:00 GMT  "
      ]
     },
     "execution_count": 19,
     "metadata": {},
     "output_type": "execute_result"
    }
   ],
   "source": [
    "#so here we Save all the data in data frame to  can start translating and analyzing it\n",
    "df = pd.DataFrame(data)\n",
    "df.head()"
   ]
  },
  {
   "cell_type": "markdown",
   "metadata": {},
   "source": [
    "## Sentiments Analysis for The News Artiticles"
   ]
  },
  {
   "cell_type": "code",
   "execution_count": null,
   "metadata": {
    "id": "wtiPbgmshPIT"
   },
   "outputs": [],
   "source": [
    "# here is texblob our natural lanaguage processing library to make sentiments\n",
    "from textblob import TextBlob"
   ]
  },
  {
   "cell_type": "code",
   "execution_count": null,
   "metadata": {
    "id": "aLitl-HthXRX"
   },
   "outputs": [],
   "source": [
    "# here we feed the function the term that we are interested in germeney\n",
    "blob = TextBlob('Südafrika Lastabwurf und Energiekrise')"
   ]
  },
  {
   "cell_type": "code",
   "execution_count": null,
   "metadata": {
    "colab": {
     "base_uri": "https://localhost:8080/"
    },
    "id": "gGvJaNvrjpER",
    "outputId": "121861b9-99b7-4be5-aa02-ad548e733302"
   },
   "outputs": [
    {
     "data": {
      "text/plain": [
       "TextBlob(\"South Africa Load Department and Energy Crisis\")"
      ]
     },
     "execution_count": 22,
     "metadata": {},
     "output_type": "execute_result"
    }
   ],
   "source": [
    "# here we use translate to with a Germern from language to Englishlanguage\n",
    "blob.translate(from_lang='de', to='en')"
   ]
  },
  {
   "cell_type": "markdown",
   "metadata": {},
   "source": [
    "## Transilating The Articles Hadline from German to English"
   ]
  },
  {
   "cell_type": "code",
   "execution_count": null,
   "metadata": {
    "id": "aR7BgsWkj_Cl"
   },
   "outputs": [],
   "source": [
    "# let's create a function that bring back sentiment and translateions\n",
    "def translation(text):\n",
    "      blob =TextBlob(text)\n",
    "    return str(blob.translate(from_lang='de', to='en'))\n",
    "  \n",
    "def sentiment(text):\n",
    "    blob=TextBlob(text)\n",
    "    return blob.sentiment.polarity\n",
    "\n",
    "df['translation'] = df['title'].apply(translation)\n",
    "df['sentiment'] =df['translation'].apply(sentiment)\n"
   ]
  },
  {
   "cell_type": "markdown",
   "metadata": {},
   "source": [
    "## Sentiments For The DataFrame"
   ]
  },
  {
   "cell_type": "code",
   "execution_count": null,
   "metadata": {
    "colab": {
     "base_uri": "https://localhost:8080/",
     "height": 443
    },
    "id": "ahB8ct93kvl9",
    "outputId": "f3a3ce41-f4bc-43bb-98b2-e301fb1652f6"
   },
   "outputs": [
    {
     "data": {
      "text/html": [
       "\n",
       "  <div id=\"df-7fe78a67-8a50-459c-bab6-fdff9a4747ec\">\n",
       "    <div class=\"colab-df-container\">\n",
       "      <div>\n",
       "<style scoped>\n",
       "    .dataframe tbody tr th:only-of-type {\n",
       "        vertical-align: middle;\n",
       "    }\n",
       "\n",
       "    .dataframe tbody tr th {\n",
       "        vertical-align: top;\n",
       "    }\n",
       "\n",
       "    .dataframe thead th {\n",
       "        text-align: right;\n",
       "    }\n",
       "</style>\n",
       "<table border=\"1\" class=\"dataframe\">\n",
       "  <thead>\n",
       "    <tr style=\"text-align: right;\">\n",
       "      <th></th>\n",
       "      <th>title</th>\n",
       "      <th>link</th>\n",
       "      <th>published</th>\n",
       "      <th>translation</th>\n",
       "      <th>sentiment</th>\n",
       "    </tr>\n",
       "  </thead>\n",
       "  <tbody>\n",
       "    <tr>\n",
       "      <th>0</th>\n",
       "      <td>Energiekrise in Südafrika: Wo Blackouts zum Al...</td>\n",
       "      <td>https://news.google.com/__i/rss/rd/articles/CB...</td>\n",
       "      <td>Sun, 04 Dec 2022 13:44:27 GMT</td>\n",
       "      <td>Energy crisis in South Africa: where Blackouts...</td>\n",
       "      <td>-0.200</td>\n",
       "    </tr>\n",
       "    <tr>\n",
       "      <th>1</th>\n",
       "      <td>Blackouts &amp; Abschaltungen: Wie Südafrika mit s...</td>\n",
       "      <td>https://news.google.com/__i/rss/rd/articles/CB...</td>\n",
       "      <td>Thu, 22 Sep 2022 07:00:00 GMT</td>\n",
       "      <td>Blackouts &amp; shutdowns: How South Africa deals ...</td>\n",
       "      <td>0.000</td>\n",
       "    </tr>\n",
       "    <tr>\n",
       "      <th>2</th>\n",
       "      <td>Warnung vor „Lastabwurf“: Sitzen wir bald im D...</td>\n",
       "      <td>https://news.google.com/__i/rss/rd/articles/CB...</td>\n",
       "      <td>Sat, 17 Sep 2022 07:00:00 GMT</td>\n",
       "      <td>WARNING against \"LAST DAY\": Are we soon in the...</td>\n",
       "      <td>-0.075</td>\n",
       "    </tr>\n",
       "    <tr>\n",
       "      <th>3</th>\n",
       "      <td>Energiewende-Partnerschaften auf dem Vormarsch...</td>\n",
       "      <td>https://news.google.com/__i/rss/rd/articles/CB...</td>\n",
       "      <td>Thu, 24 Nov 2022 05:04:07 GMT</td>\n",
       "      <td>Energy transition partnerships on the advance ...</td>\n",
       "      <td>0.000</td>\n",
       "    </tr>\n",
       "    <tr>\n",
       "      <th>4</th>\n",
       "      <td>Angstwort „Lastabwurf“: Netzbetreiber warnt vo...</td>\n",
       "      <td>https://news.google.com/__i/rss/rd/articles/CB...</td>\n",
       "      <td>Fri, 16 Sep 2022 07:00:00 GMT</td>\n",
       "      <td>Fearing word \"load drop\": network operator war...</td>\n",
       "      <td>0.000</td>\n",
       "    </tr>\n",
       "    <tr>\n",
       "      <th>5</th>\n",
       "      <td>Stromausfälle: Was hat es mit dem Lastabwurf a...</td>\n",
       "      <td>https://news.google.com/__i/rss/rd/articles/CB...</td>\n",
       "      <td>Tue, 04 Oct 2022 07:00:00 GMT</td>\n",
       "      <td>Power failures: What is the load drop? - Berli...</td>\n",
       "      <td>0.000</td>\n",
       "    </tr>\n",
       "    <tr>\n",
       "      <th>6</th>\n",
       "      <td>Brownout: Kleinere Stromabschaltungen sollen i...</td>\n",
       "      <td>https://news.google.com/__i/rss/rd/articles/CB...</td>\n",
       "      <td>Tue, 01 Nov 2022 07:00:00 GMT</td>\n",
       "      <td>Brownout: Smaller electricity shutdowns should...</td>\n",
       "      <td>0.000</td>\n",
       "    </tr>\n",
       "    <tr>\n",
       "      <th>7</th>\n",
       "      <td>Fragen und Antworten - Ihre Fragen zum Thema E...</td>\n",
       "      <td>https://news.google.com/__i/rss/rd/articles/CB...</td>\n",
       "      <td>Thu, 17 Nov 2022 08:00:00 GMT</td>\n",
       "      <td>Questions and answers - your questions about e...</td>\n",
       "      <td>0.000</td>\n",
       "    </tr>\n",
       "  </tbody>\n",
       "</table>\n",
       "</div>\n",
       "      <button class=\"colab-df-convert\" onclick=\"convertToInteractive('df-7fe78a67-8a50-459c-bab6-fdff9a4747ec')\"\n",
       "              title=\"Convert this dataframe to an interactive table.\"\n",
       "              style=\"display:none;\">\n",
       "        \n",
       "  <svg xmlns=\"http://www.w3.org/2000/svg\" height=\"24px\"viewBox=\"0 0 24 24\"\n",
       "       width=\"24px\">\n",
       "    <path d=\"M0 0h24v24H0V0z\" fill=\"none\"/>\n",
       "    <path d=\"M18.56 5.44l.94 2.06.94-2.06 2.06-.94-2.06-.94-.94-2.06-.94 2.06-2.06.94zm-11 1L8.5 8.5l.94-2.06 2.06-.94-2.06-.94L8.5 2.5l-.94 2.06-2.06.94zm10 10l.94 2.06.94-2.06 2.06-.94-2.06-.94-.94-2.06-.94 2.06-2.06.94z\"/><path d=\"M17.41 7.96l-1.37-1.37c-.4-.4-.92-.59-1.43-.59-.52 0-1.04.2-1.43.59L10.3 9.45l-7.72 7.72c-.78.78-.78 2.05 0 2.83L4 21.41c.39.39.9.59 1.41.59.51 0 1.02-.2 1.41-.59l7.78-7.78 2.81-2.81c.8-.78.8-2.07 0-2.86zM5.41 20L4 18.59l7.72-7.72 1.47 1.35L5.41 20z\"/>\n",
       "  </svg>\n",
       "      </button>\n",
       "      \n",
       "  <style>\n",
       "    .colab-df-container {\n",
       "      display:flex;\n",
       "      flex-wrap:wrap;\n",
       "      gap: 12px;\n",
       "    }\n",
       "\n",
       "    .colab-df-convert {\n",
       "      background-color: #E8F0FE;\n",
       "      border: none;\n",
       "      border-radius: 50%;\n",
       "      cursor: pointer;\n",
       "      display: none;\n",
       "      fill: #1967D2;\n",
       "      height: 32px;\n",
       "      padding: 0 0 0 0;\n",
       "      width: 32px;\n",
       "    }\n",
       "\n",
       "    .colab-df-convert:hover {\n",
       "      background-color: #E2EBFA;\n",
       "      box-shadow: 0px 1px 2px rgba(60, 64, 67, 0.3), 0px 1px 3px 1px rgba(60, 64, 67, 0.15);\n",
       "      fill: #174EA6;\n",
       "    }\n",
       "\n",
       "    [theme=dark] .colab-df-convert {\n",
       "      background-color: #3B4455;\n",
       "      fill: #D2E3FC;\n",
       "    }\n",
       "\n",
       "    [theme=dark] .colab-df-convert:hover {\n",
       "      background-color: #434B5C;\n",
       "      box-shadow: 0px 1px 3px 1px rgba(0, 0, 0, 0.15);\n",
       "      filter: drop-shadow(0px 1px 2px rgba(0, 0, 0, 0.3));\n",
       "      fill: #FFFFFF;\n",
       "    }\n",
       "  </style>\n",
       "\n",
       "      <script>\n",
       "        const buttonEl =\n",
       "          document.querySelector('#df-7fe78a67-8a50-459c-bab6-fdff9a4747ec button.colab-df-convert');\n",
       "        buttonEl.style.display =\n",
       "          google.colab.kernel.accessAllowed ? 'block' : 'none';\n",
       "\n",
       "        async function convertToInteractive(key) {\n",
       "          const element = document.querySelector('#df-7fe78a67-8a50-459c-bab6-fdff9a4747ec');\n",
       "          const dataTable =\n",
       "            await google.colab.kernel.invokeFunction('convertToInteractive',\n",
       "                                                     [key], {});\n",
       "          if (!dataTable) return;\n",
       "\n",
       "          const docLinkHtml = 'Like what you see? Visit the ' +\n",
       "            '<a target=\"_blank\" href=https://colab.research.google.com/notebooks/data_table.ipynb>data table notebook</a>'\n",
       "            + ' to learn more about interactive tables.';\n",
       "          element.innerHTML = '';\n",
       "          dataTable['output_type'] = 'display_data';\n",
       "          await google.colab.output.renderOutput(dataTable, element);\n",
       "          const docLink = document.createElement('div');\n",
       "          docLink.innerHTML = docLinkHtml;\n",
       "          element.appendChild(docLink);\n",
       "        }\n",
       "      </script>\n",
       "    </div>\n",
       "  </div>\n",
       "  "
      ],
      "text/plain": [
       "                                               title  \\\n",
       "0  Energiekrise in Südafrika: Wo Blackouts zum Al...   \n",
       "1  Blackouts & Abschaltungen: Wie Südafrika mit s...   \n",
       "2  Warnung vor „Lastabwurf“: Sitzen wir bald im D...   \n",
       "3  Energiewende-Partnerschaften auf dem Vormarsch...   \n",
       "4  Angstwort „Lastabwurf“: Netzbetreiber warnt vo...   \n",
       "5  Stromausfälle: Was hat es mit dem Lastabwurf a...   \n",
       "6  Brownout: Kleinere Stromabschaltungen sollen i...   \n",
       "7  Fragen und Antworten - Ihre Fragen zum Thema E...   \n",
       "\n",
       "                                                link  \\\n",
       "0  https://news.google.com/__i/rss/rd/articles/CB...   \n",
       "1  https://news.google.com/__i/rss/rd/articles/CB...   \n",
       "2  https://news.google.com/__i/rss/rd/articles/CB...   \n",
       "3  https://news.google.com/__i/rss/rd/articles/CB...   \n",
       "4  https://news.google.com/__i/rss/rd/articles/CB...   \n",
       "5  https://news.google.com/__i/rss/rd/articles/CB...   \n",
       "6  https://news.google.com/__i/rss/rd/articles/CB...   \n",
       "7  https://news.google.com/__i/rss/rd/articles/CB...   \n",
       "\n",
       "                       published  \\\n",
       "0  Sun, 04 Dec 2022 13:44:27 GMT   \n",
       "1  Thu, 22 Sep 2022 07:00:00 GMT   \n",
       "2  Sat, 17 Sep 2022 07:00:00 GMT   \n",
       "3  Thu, 24 Nov 2022 05:04:07 GMT   \n",
       "4  Fri, 16 Sep 2022 07:00:00 GMT   \n",
       "5  Tue, 04 Oct 2022 07:00:00 GMT   \n",
       "6  Tue, 01 Nov 2022 07:00:00 GMT   \n",
       "7  Thu, 17 Nov 2022 08:00:00 GMT   \n",
       "\n",
       "                                         translation  sentiment  \n",
       "0  Energy crisis in South Africa: where Blackouts...     -0.200  \n",
       "1  Blackouts & shutdowns: How South Africa deals ...      0.000  \n",
       "2  WARNING against \"LAST DAY\": Are we soon in the...     -0.075  \n",
       "3  Energy transition partnerships on the advance ...      0.000  \n",
       "4  Fearing word \"load drop\": network operator war...      0.000  \n",
       "5  Power failures: What is the load drop? - Berli...      0.000  \n",
       "6  Brownout: Smaller electricity shutdowns should...      0.000  \n",
       "7  Questions and answers - your questions about e...      0.000  "
      ]
     },
     "execution_count": 24,
     "metadata": {},
     "output_type": "execute_result"
    }
   ],
   "source": [
    "#Call the Dataframe to see the results after sentiments\n",
    "df"
   ]
  },
  {
   "cell_type": "markdown",
   "metadata": {},
   "source": [
    "## Semtiments Calculations Analysis"
   ]
  },
  {
   "cell_type": "code",
   "execution_count": null,
   "metadata": {
    "colab": {
     "base_uri": "https://localhost:8080/",
     "height": 494
    },
    "id": "boKlBM7XlJRz",
    "outputId": "c347b581-4343-4a71-dac8-9109c787cc00"
   },
   "outputs": [
    {
     "data": {
      "text/html": [
       "\n",
       "  <div id=\"df-49c9d42b-58ad-4864-8fb6-6e9f02dced84\">\n",
       "    <div class=\"colab-df-container\">\n",
       "      <div>\n",
       "<style scoped>\n",
       "    .dataframe tbody tr th:only-of-type {\n",
       "        vertical-align: middle;\n",
       "    }\n",
       "\n",
       "    .dataframe tbody tr th {\n",
       "        vertical-align: top;\n",
       "    }\n",
       "\n",
       "    .dataframe thead th {\n",
       "        text-align: right;\n",
       "    }\n",
       "</style>\n",
       "<table border=\"1\" class=\"dataframe\">\n",
       "  <thead>\n",
       "    <tr style=\"text-align: right;\">\n",
       "      <th></th>\n",
       "      <th>title</th>\n",
       "      <th>link</th>\n",
       "      <th>published</th>\n",
       "      <th>translation</th>\n",
       "      <th>sentiment</th>\n",
       "      <th>Sentiment Class</th>\n",
       "    </tr>\n",
       "  </thead>\n",
       "  <tbody>\n",
       "    <tr>\n",
       "      <th>0</th>\n",
       "      <td>Energiekrise in Südafrika: Wo Blackouts zum Al...</td>\n",
       "      <td>https://news.google.com/__i/rss/rd/articles/CB...</td>\n",
       "      <td>Sun, 04 Dec 2022 13:44:27 GMT</td>\n",
       "      <td>Energy crisis in South Africa: where Blackouts...</td>\n",
       "      <td>-0.200</td>\n",
       "      <td>negative</td>\n",
       "    </tr>\n",
       "    <tr>\n",
       "      <th>1</th>\n",
       "      <td>Blackouts &amp; Abschaltungen: Wie Südafrika mit s...</td>\n",
       "      <td>https://news.google.com/__i/rss/rd/articles/CB...</td>\n",
       "      <td>Thu, 22 Sep 2022 07:00:00 GMT</td>\n",
       "      <td>Blackouts &amp; shutdowns: How South Africa deals ...</td>\n",
       "      <td>0.000</td>\n",
       "      <td>neutral</td>\n",
       "    </tr>\n",
       "    <tr>\n",
       "      <th>2</th>\n",
       "      <td>Warnung vor „Lastabwurf“: Sitzen wir bald im D...</td>\n",
       "      <td>https://news.google.com/__i/rss/rd/articles/CB...</td>\n",
       "      <td>Sat, 17 Sep 2022 07:00:00 GMT</td>\n",
       "      <td>WARNING against \"LAST DAY\": Are we soon in the...</td>\n",
       "      <td>-0.075</td>\n",
       "      <td>negative</td>\n",
       "    </tr>\n",
       "    <tr>\n",
       "      <th>3</th>\n",
       "      <td>Energiewende-Partnerschaften auf dem Vormarsch...</td>\n",
       "      <td>https://news.google.com/__i/rss/rd/articles/CB...</td>\n",
       "      <td>Thu, 24 Nov 2022 05:04:07 GMT</td>\n",
       "      <td>Energy transition partnerships on the advance ...</td>\n",
       "      <td>0.000</td>\n",
       "      <td>neutral</td>\n",
       "    </tr>\n",
       "    <tr>\n",
       "      <th>4</th>\n",
       "      <td>Angstwort „Lastabwurf“: Netzbetreiber warnt vo...</td>\n",
       "      <td>https://news.google.com/__i/rss/rd/articles/CB...</td>\n",
       "      <td>Fri, 16 Sep 2022 07:00:00 GMT</td>\n",
       "      <td>Fearing word \"load drop\": network operator war...</td>\n",
       "      <td>0.000</td>\n",
       "      <td>neutral</td>\n",
       "    </tr>\n",
       "    <tr>\n",
       "      <th>5</th>\n",
       "      <td>Stromausfälle: Was hat es mit dem Lastabwurf a...</td>\n",
       "      <td>https://news.google.com/__i/rss/rd/articles/CB...</td>\n",
       "      <td>Tue, 04 Oct 2022 07:00:00 GMT</td>\n",
       "      <td>Power failures: What is the load drop? - Berli...</td>\n",
       "      <td>0.000</td>\n",
       "      <td>neutral</td>\n",
       "    </tr>\n",
       "    <tr>\n",
       "      <th>6</th>\n",
       "      <td>Brownout: Kleinere Stromabschaltungen sollen i...</td>\n",
       "      <td>https://news.google.com/__i/rss/rd/articles/CB...</td>\n",
       "      <td>Tue, 01 Nov 2022 07:00:00 GMT</td>\n",
       "      <td>Brownout: Smaller electricity shutdowns should...</td>\n",
       "      <td>0.000</td>\n",
       "      <td>neutral</td>\n",
       "    </tr>\n",
       "    <tr>\n",
       "      <th>7</th>\n",
       "      <td>Fragen und Antworten - Ihre Fragen zum Thema E...</td>\n",
       "      <td>https://news.google.com/__i/rss/rd/articles/CB...</td>\n",
       "      <td>Thu, 17 Nov 2022 08:00:00 GMT</td>\n",
       "      <td>Questions and answers - your questions about e...</td>\n",
       "      <td>0.000</td>\n",
       "      <td>neutral</td>\n",
       "    </tr>\n",
       "  </tbody>\n",
       "</table>\n",
       "</div>\n",
       "      <button class=\"colab-df-convert\" onclick=\"convertToInteractive('df-49c9d42b-58ad-4864-8fb6-6e9f02dced84')\"\n",
       "              title=\"Convert this dataframe to an interactive table.\"\n",
       "              style=\"display:none;\">\n",
       "        \n",
       "  <svg xmlns=\"http://www.w3.org/2000/svg\" height=\"24px\"viewBox=\"0 0 24 24\"\n",
       "       width=\"24px\">\n",
       "    <path d=\"M0 0h24v24H0V0z\" fill=\"none\"/>\n",
       "    <path d=\"M18.56 5.44l.94 2.06.94-2.06 2.06-.94-2.06-.94-.94-2.06-.94 2.06-2.06.94zm-11 1L8.5 8.5l.94-2.06 2.06-.94-2.06-.94L8.5 2.5l-.94 2.06-2.06.94zm10 10l.94 2.06.94-2.06 2.06-.94-2.06-.94-.94-2.06-.94 2.06-2.06.94z\"/><path d=\"M17.41 7.96l-1.37-1.37c-.4-.4-.92-.59-1.43-.59-.52 0-1.04.2-1.43.59L10.3 9.45l-7.72 7.72c-.78.78-.78 2.05 0 2.83L4 21.41c.39.39.9.59 1.41.59.51 0 1.02-.2 1.41-.59l7.78-7.78 2.81-2.81c.8-.78.8-2.07 0-2.86zM5.41 20L4 18.59l7.72-7.72 1.47 1.35L5.41 20z\"/>\n",
       "  </svg>\n",
       "      </button>\n",
       "      \n",
       "  <style>\n",
       "    .colab-df-container {\n",
       "      display:flex;\n",
       "      flex-wrap:wrap;\n",
       "      gap: 12px;\n",
       "    }\n",
       "\n",
       "    .colab-df-convert {\n",
       "      background-color: #E8F0FE;\n",
       "      border: none;\n",
       "      border-radius: 50%;\n",
       "      cursor: pointer;\n",
       "      display: none;\n",
       "      fill: #1967D2;\n",
       "      height: 32px;\n",
       "      padding: 0 0 0 0;\n",
       "      width: 32px;\n",
       "    }\n",
       "\n",
       "    .colab-df-convert:hover {\n",
       "      background-color: #E2EBFA;\n",
       "      box-shadow: 0px 1px 2px rgba(60, 64, 67, 0.3), 0px 1px 3px 1px rgba(60, 64, 67, 0.15);\n",
       "      fill: #174EA6;\n",
       "    }\n",
       "\n",
       "    [theme=dark] .colab-df-convert {\n",
       "      background-color: #3B4455;\n",
       "      fill: #D2E3FC;\n",
       "    }\n",
       "\n",
       "    [theme=dark] .colab-df-convert:hover {\n",
       "      background-color: #434B5C;\n",
       "      box-shadow: 0px 1px 3px 1px rgba(0, 0, 0, 0.15);\n",
       "      filter: drop-shadow(0px 1px 2px rgba(0, 0, 0, 0.3));\n",
       "      fill: #FFFFFF;\n",
       "    }\n",
       "  </style>\n",
       "\n",
       "      <script>\n",
       "        const buttonEl =\n",
       "          document.querySelector('#df-49c9d42b-58ad-4864-8fb6-6e9f02dced84 button.colab-df-convert');\n",
       "        buttonEl.style.display =\n",
       "          google.colab.kernel.accessAllowed ? 'block' : 'none';\n",
       "\n",
       "        async function convertToInteractive(key) {\n",
       "          const element = document.querySelector('#df-49c9d42b-58ad-4864-8fb6-6e9f02dced84');\n",
       "          const dataTable =\n",
       "            await google.colab.kernel.invokeFunction('convertToInteractive',\n",
       "                                                     [key], {});\n",
       "          if (!dataTable) return;\n",
       "\n",
       "          const docLinkHtml = 'Like what you see? Visit the ' +\n",
       "            '<a target=\"_blank\" href=https://colab.research.google.com/notebooks/data_table.ipynb>data table notebook</a>'\n",
       "            + ' to learn more about interactive tables.';\n",
       "          element.innerHTML = '';\n",
       "          dataTable['output_type'] = 'display_data';\n",
       "          await google.colab.output.renderOutput(dataTable, element);\n",
       "          const docLink = document.createElement('div');\n",
       "          docLink.innerHTML = docLinkHtml;\n",
       "          element.appendChild(docLink);\n",
       "        }\n",
       "      </script>\n",
       "    </div>\n",
       "  </div>\n",
       "  "
      ],
      "text/plain": [
       "                                               title  \\\n",
       "0  Energiekrise in Südafrika: Wo Blackouts zum Al...   \n",
       "1  Blackouts & Abschaltungen: Wie Südafrika mit s...   \n",
       "2  Warnung vor „Lastabwurf“: Sitzen wir bald im D...   \n",
       "3  Energiewende-Partnerschaften auf dem Vormarsch...   \n",
       "4  Angstwort „Lastabwurf“: Netzbetreiber warnt vo...   \n",
       "5  Stromausfälle: Was hat es mit dem Lastabwurf a...   \n",
       "6  Brownout: Kleinere Stromabschaltungen sollen i...   \n",
       "7  Fragen und Antworten - Ihre Fragen zum Thema E...   \n",
       "\n",
       "                                                link  \\\n",
       "0  https://news.google.com/__i/rss/rd/articles/CB...   \n",
       "1  https://news.google.com/__i/rss/rd/articles/CB...   \n",
       "2  https://news.google.com/__i/rss/rd/articles/CB...   \n",
       "3  https://news.google.com/__i/rss/rd/articles/CB...   \n",
       "4  https://news.google.com/__i/rss/rd/articles/CB...   \n",
       "5  https://news.google.com/__i/rss/rd/articles/CB...   \n",
       "6  https://news.google.com/__i/rss/rd/articles/CB...   \n",
       "7  https://news.google.com/__i/rss/rd/articles/CB...   \n",
       "\n",
       "                       published  \\\n",
       "0  Sun, 04 Dec 2022 13:44:27 GMT   \n",
       "1  Thu, 22 Sep 2022 07:00:00 GMT   \n",
       "2  Sat, 17 Sep 2022 07:00:00 GMT   \n",
       "3  Thu, 24 Nov 2022 05:04:07 GMT   \n",
       "4  Fri, 16 Sep 2022 07:00:00 GMT   \n",
       "5  Tue, 04 Oct 2022 07:00:00 GMT   \n",
       "6  Tue, 01 Nov 2022 07:00:00 GMT   \n",
       "7  Thu, 17 Nov 2022 08:00:00 GMT   \n",
       "\n",
       "                                         translation  sentiment  \\\n",
       "0  Energy crisis in South Africa: where Blackouts...     -0.200   \n",
       "1  Blackouts & shutdowns: How South Africa deals ...      0.000   \n",
       "2  WARNING against \"LAST DAY\": Are we soon in the...     -0.075   \n",
       "3  Energy transition partnerships on the advance ...      0.000   \n",
       "4  Fearing word \"load drop\": network operator war...      0.000   \n",
       "5  Power failures: What is the load drop? - Berli...      0.000   \n",
       "6  Brownout: Smaller electricity shutdowns should...      0.000   \n",
       "7  Questions and answers - your questions about e...      0.000   \n",
       "\n",
       "  Sentiment Class  \n",
       "0        negative  \n",
       "1         neutral  \n",
       "2        negative  \n",
       "3         neutral  \n",
       "4         neutral  \n",
       "5         neutral  \n",
       "6         neutral  \n",
       "7         neutral  "
      ]
     },
     "execution_count": 25,
     "metadata": {},
     "output_type": "execute_result"
    }
   ],
   "source": [
    "#here we anayse the Sentiments and intilize them on how they mean\n",
    "import numpy as np\n",
    "\n",
    "df['Sentiment Class']  = np.where(df['sentiment']<0,\"negative\",\n",
    "                                  np.where(df['sentiment']>0,\"positive\",\n",
    "                                           \"neutral\"))\n",
    "df"
   ]
  },
  {
   "cell_type": "code",
   "execution_count": null,
   "metadata": {
    "colab": {
     "base_uri": "https://localhost:8080/"
    },
    "id": "bmAQRi-3lqr5",
    "outputId": "6fb39aea-ca7d-4a62-8e24-a3f05875f323"
   },
   "outputs": [
    {
     "data": {
      "text/plain": [
       "neutral     0.75\n",
       "negative    0.25\n",
       "Name: Sentiment Class, dtype: float64"
      ]
     },
     "execution_count": 26,
     "metadata": {},
     "output_type": "execute_result"
    }
   ],
   "source": [
    "#funtion on how to display the results of the sentiments\n",
    "df['Sentiment Class'].value_counts(normalize=True)"
   ]
  },
  {
   "cell_type": "code",
   "execution_count": null,
   "metadata": {
    "id": "v6-kboQBshkp"
   },
   "outputs": [],
   "source": [
    "#Sorting the Data by the date of when it was published\n",
    "df['Date'] = pd.to_datetime(df['published'])\n",
    "df['Date'] =df['Date'].dt.date"
   ]
  },
  {
   "cell_type": "code",
   "execution_count": null,
   "metadata": {
    "colab": {
     "base_uri": "https://localhost:8080/",
     "height": 494
    },
    "id": "Zy-gEq_8tBBH",
    "outputId": "27b59fef-d4fe-42a7-ebd3-f71f8aa9d44f"
   },
   "outputs": [
    {
     "data": {
      "text/html": [
       "\n",
       "  <div id=\"df-acf47506-e7ed-42e5-9e4b-f1e15679e4a4\">\n",
       "    <div class=\"colab-df-container\">\n",
       "      <div>\n",
       "<style scoped>\n",
       "    .dataframe tbody tr th:only-of-type {\n",
       "        vertical-align: middle;\n",
       "    }\n",
       "\n",
       "    .dataframe tbody tr th {\n",
       "        vertical-align: top;\n",
       "    }\n",
       "\n",
       "    .dataframe thead th {\n",
       "        text-align: right;\n",
       "    }\n",
       "</style>\n",
       "<table border=\"1\" class=\"dataframe\">\n",
       "  <thead>\n",
       "    <tr style=\"text-align: right;\">\n",
       "      <th></th>\n",
       "      <th>title</th>\n",
       "      <th>link</th>\n",
       "      <th>published</th>\n",
       "      <th>translation</th>\n",
       "      <th>sentiment</th>\n",
       "      <th>Sentiment Class</th>\n",
       "      <th>Date</th>\n",
       "    </tr>\n",
       "  </thead>\n",
       "  <tbody>\n",
       "    <tr>\n",
       "      <th>0</th>\n",
       "      <td>Energiekrise in Südafrika: Wo Blackouts zum Al...</td>\n",
       "      <td>https://news.google.com/__i/rss/rd/articles/CB...</td>\n",
       "      <td>Sun, 04 Dec 2022 13:44:27 GMT</td>\n",
       "      <td>Energy crisis in South Africa: where Blackouts...</td>\n",
       "      <td>-0.200</td>\n",
       "      <td>negative</td>\n",
       "      <td>2022-12-04</td>\n",
       "    </tr>\n",
       "    <tr>\n",
       "      <th>3</th>\n",
       "      <td>Energiewende-Partnerschaften auf dem Vormarsch...</td>\n",
       "      <td>https://news.google.com/__i/rss/rd/articles/CB...</td>\n",
       "      <td>Thu, 24 Nov 2022 05:04:07 GMT</td>\n",
       "      <td>Energy transition partnerships on the advance ...</td>\n",
       "      <td>0.000</td>\n",
       "      <td>neutral</td>\n",
       "      <td>2022-11-24</td>\n",
       "    </tr>\n",
       "    <tr>\n",
       "      <th>7</th>\n",
       "      <td>Fragen und Antworten - Ihre Fragen zum Thema E...</td>\n",
       "      <td>https://news.google.com/__i/rss/rd/articles/CB...</td>\n",
       "      <td>Thu, 17 Nov 2022 08:00:00 GMT</td>\n",
       "      <td>Questions and answers - your questions about e...</td>\n",
       "      <td>0.000</td>\n",
       "      <td>neutral</td>\n",
       "      <td>2022-11-17</td>\n",
       "    </tr>\n",
       "    <tr>\n",
       "      <th>6</th>\n",
       "      <td>Brownout: Kleinere Stromabschaltungen sollen i...</td>\n",
       "      <td>https://news.google.com/__i/rss/rd/articles/CB...</td>\n",
       "      <td>Tue, 01 Nov 2022 07:00:00 GMT</td>\n",
       "      <td>Brownout: Smaller electricity shutdowns should...</td>\n",
       "      <td>0.000</td>\n",
       "      <td>neutral</td>\n",
       "      <td>2022-11-01</td>\n",
       "    </tr>\n",
       "    <tr>\n",
       "      <th>5</th>\n",
       "      <td>Stromausfälle: Was hat es mit dem Lastabwurf a...</td>\n",
       "      <td>https://news.google.com/__i/rss/rd/articles/CB...</td>\n",
       "      <td>Tue, 04 Oct 2022 07:00:00 GMT</td>\n",
       "      <td>Power failures: What is the load drop? - Berli...</td>\n",
       "      <td>0.000</td>\n",
       "      <td>neutral</td>\n",
       "      <td>2022-10-04</td>\n",
       "    </tr>\n",
       "    <tr>\n",
       "      <th>1</th>\n",
       "      <td>Blackouts &amp; Abschaltungen: Wie Südafrika mit s...</td>\n",
       "      <td>https://news.google.com/__i/rss/rd/articles/CB...</td>\n",
       "      <td>Thu, 22 Sep 2022 07:00:00 GMT</td>\n",
       "      <td>Blackouts &amp; shutdowns: How South Africa deals ...</td>\n",
       "      <td>0.000</td>\n",
       "      <td>neutral</td>\n",
       "      <td>2022-09-22</td>\n",
       "    </tr>\n",
       "    <tr>\n",
       "      <th>2</th>\n",
       "      <td>Warnung vor „Lastabwurf“: Sitzen wir bald im D...</td>\n",
       "      <td>https://news.google.com/__i/rss/rd/articles/CB...</td>\n",
       "      <td>Sat, 17 Sep 2022 07:00:00 GMT</td>\n",
       "      <td>WARNING against \"LAST DAY\": Are we soon in the...</td>\n",
       "      <td>-0.075</td>\n",
       "      <td>negative</td>\n",
       "      <td>2022-09-17</td>\n",
       "    </tr>\n",
       "    <tr>\n",
       "      <th>4</th>\n",
       "      <td>Angstwort „Lastabwurf“: Netzbetreiber warnt vo...</td>\n",
       "      <td>https://news.google.com/__i/rss/rd/articles/CB...</td>\n",
       "      <td>Fri, 16 Sep 2022 07:00:00 GMT</td>\n",
       "      <td>Fearing word \"load drop\": network operator war...</td>\n",
       "      <td>0.000</td>\n",
       "      <td>neutral</td>\n",
       "      <td>2022-09-16</td>\n",
       "    </tr>\n",
       "  </tbody>\n",
       "</table>\n",
       "</div>\n",
       "      <button class=\"colab-df-convert\" onclick=\"convertToInteractive('df-acf47506-e7ed-42e5-9e4b-f1e15679e4a4')\"\n",
       "              title=\"Convert this dataframe to an interactive table.\"\n",
       "              style=\"display:none;\">\n",
       "        \n",
       "  <svg xmlns=\"http://www.w3.org/2000/svg\" height=\"24px\"viewBox=\"0 0 24 24\"\n",
       "       width=\"24px\">\n",
       "    <path d=\"M0 0h24v24H0V0z\" fill=\"none\"/>\n",
       "    <path d=\"M18.56 5.44l.94 2.06.94-2.06 2.06-.94-2.06-.94-.94-2.06-.94 2.06-2.06.94zm-11 1L8.5 8.5l.94-2.06 2.06-.94-2.06-.94L8.5 2.5l-.94 2.06-2.06.94zm10 10l.94 2.06.94-2.06 2.06-.94-2.06-.94-.94-2.06-.94 2.06-2.06.94z\"/><path d=\"M17.41 7.96l-1.37-1.37c-.4-.4-.92-.59-1.43-.59-.52 0-1.04.2-1.43.59L10.3 9.45l-7.72 7.72c-.78.78-.78 2.05 0 2.83L4 21.41c.39.39.9.59 1.41.59.51 0 1.02-.2 1.41-.59l7.78-7.78 2.81-2.81c.8-.78.8-2.07 0-2.86zM5.41 20L4 18.59l7.72-7.72 1.47 1.35L5.41 20z\"/>\n",
       "  </svg>\n",
       "      </button>\n",
       "      \n",
       "  <style>\n",
       "    .colab-df-container {\n",
       "      display:flex;\n",
       "      flex-wrap:wrap;\n",
       "      gap: 12px;\n",
       "    }\n",
       "\n",
       "    .colab-df-convert {\n",
       "      background-color: #E8F0FE;\n",
       "      border: none;\n",
       "      border-radius: 50%;\n",
       "      cursor: pointer;\n",
       "      display: none;\n",
       "      fill: #1967D2;\n",
       "      height: 32px;\n",
       "      padding: 0 0 0 0;\n",
       "      width: 32px;\n",
       "    }\n",
       "\n",
       "    .colab-df-convert:hover {\n",
       "      background-color: #E2EBFA;\n",
       "      box-shadow: 0px 1px 2px rgba(60, 64, 67, 0.3), 0px 1px 3px 1px rgba(60, 64, 67, 0.15);\n",
       "      fill: #174EA6;\n",
       "    }\n",
       "\n",
       "    [theme=dark] .colab-df-convert {\n",
       "      background-color: #3B4455;\n",
       "      fill: #D2E3FC;\n",
       "    }\n",
       "\n",
       "    [theme=dark] .colab-df-convert:hover {\n",
       "      background-color: #434B5C;\n",
       "      box-shadow: 0px 1px 3px 1px rgba(0, 0, 0, 0.15);\n",
       "      filter: drop-shadow(0px 1px 2px rgba(0, 0, 0, 0.3));\n",
       "      fill: #FFFFFF;\n",
       "    }\n",
       "  </style>\n",
       "\n",
       "      <script>\n",
       "        const buttonEl =\n",
       "          document.querySelector('#df-acf47506-e7ed-42e5-9e4b-f1e15679e4a4 button.colab-df-convert');\n",
       "        buttonEl.style.display =\n",
       "          google.colab.kernel.accessAllowed ? 'block' : 'none';\n",
       "\n",
       "        async function convertToInteractive(key) {\n",
       "          const element = document.querySelector('#df-acf47506-e7ed-42e5-9e4b-f1e15679e4a4');\n",
       "          const dataTable =\n",
       "            await google.colab.kernel.invokeFunction('convertToInteractive',\n",
       "                                                     [key], {});\n",
       "          if (!dataTable) return;\n",
       "\n",
       "          const docLinkHtml = 'Like what you see? Visit the ' +\n",
       "            '<a target=\"_blank\" href=https://colab.research.google.com/notebooks/data_table.ipynb>data table notebook</a>'\n",
       "            + ' to learn more about interactive tables.';\n",
       "          element.innerHTML = '';\n",
       "          dataTable['output_type'] = 'display_data';\n",
       "          await google.colab.output.renderOutput(dataTable, element);\n",
       "          const docLink = document.createElement('div');\n",
       "          docLink.innerHTML = docLinkHtml;\n",
       "          element.appendChild(docLink);\n",
       "        }\n",
       "      </script>\n",
       "    </div>\n",
       "  </div>\n",
       "  "
      ],
      "text/plain": [
       "                                               title  \\\n",
       "0  Energiekrise in Südafrika: Wo Blackouts zum Al...   \n",
       "3  Energiewende-Partnerschaften auf dem Vormarsch...   \n",
       "7  Fragen und Antworten - Ihre Fragen zum Thema E...   \n",
       "6  Brownout: Kleinere Stromabschaltungen sollen i...   \n",
       "5  Stromausfälle: Was hat es mit dem Lastabwurf a...   \n",
       "1  Blackouts & Abschaltungen: Wie Südafrika mit s...   \n",
       "2  Warnung vor „Lastabwurf“: Sitzen wir bald im D...   \n",
       "4  Angstwort „Lastabwurf“: Netzbetreiber warnt vo...   \n",
       "\n",
       "                                                link  \\\n",
       "0  https://news.google.com/__i/rss/rd/articles/CB...   \n",
       "3  https://news.google.com/__i/rss/rd/articles/CB...   \n",
       "7  https://news.google.com/__i/rss/rd/articles/CB...   \n",
       "6  https://news.google.com/__i/rss/rd/articles/CB...   \n",
       "5  https://news.google.com/__i/rss/rd/articles/CB...   \n",
       "1  https://news.google.com/__i/rss/rd/articles/CB...   \n",
       "2  https://news.google.com/__i/rss/rd/articles/CB...   \n",
       "4  https://news.google.com/__i/rss/rd/articles/CB...   \n",
       "\n",
       "                       published  \\\n",
       "0  Sun, 04 Dec 2022 13:44:27 GMT   \n",
       "3  Thu, 24 Nov 2022 05:04:07 GMT   \n",
       "7  Thu, 17 Nov 2022 08:00:00 GMT   \n",
       "6  Tue, 01 Nov 2022 07:00:00 GMT   \n",
       "5  Tue, 04 Oct 2022 07:00:00 GMT   \n",
       "1  Thu, 22 Sep 2022 07:00:00 GMT   \n",
       "2  Sat, 17 Sep 2022 07:00:00 GMT   \n",
       "4  Fri, 16 Sep 2022 07:00:00 GMT   \n",
       "\n",
       "                                         translation  sentiment  \\\n",
       "0  Energy crisis in South Africa: where Blackouts...     -0.200   \n",
       "3  Energy transition partnerships on the advance ...      0.000   \n",
       "7  Questions and answers - your questions about e...      0.000   \n",
       "6  Brownout: Smaller electricity shutdowns should...      0.000   \n",
       "5  Power failures: What is the load drop? - Berli...      0.000   \n",
       "1  Blackouts & shutdowns: How South Africa deals ...      0.000   \n",
       "2  WARNING against \"LAST DAY\": Are we soon in the...     -0.075   \n",
       "4  Fearing word \"load drop\": network operator war...      0.000   \n",
       "\n",
       "  Sentiment Class        Date  \n",
       "0        negative  2022-12-04  \n",
       "3         neutral  2022-11-24  \n",
       "7         neutral  2022-11-17  \n",
       "6         neutral  2022-11-01  \n",
       "5         neutral  2022-10-04  \n",
       "1         neutral  2022-09-22  \n",
       "2        negative  2022-09-17  \n",
       "4         neutral  2022-09-16  "
      ]
     },
     "execution_count": 28,
     "metadata": {},
     "output_type": "execute_result"
    }
   ],
   "source": [
    "#sorting Date in decending order and printing the data frame\n",
    "df = df.sort_values(by='Date', ascending=False)\n",
    "df"
   ]
  },
  {
   "cell_type": "markdown",
   "metadata": {},
   "source": [
    "## Ploting The Data in Graphs"
   ]
  },
  {
   "cell_type": "code",
   "execution_count": null,
   "metadata": {
    "colab": {
     "base_uri": "https://localhost:8080/",
     "height": 315
    },
    "id": "Q621b-1Fuen7",
    "outputId": "f813a204-11d4-4f05-ded4-a4bda30f128d"
   },
   "outputs": [
    {
     "data": {
      "image/png": "[encoded data removed]",
      "text/plain": [
       "<Figure size 432x288 with 1 Axes>"
      ]
     },
     "metadata": {
      "needs_background": "light"
     },
     "output_type": "display_data"
    }
   ],
   "source": [
    "import pandas as pd\n",
    "import matplotlib.pyplot as plt\n",
    "\n",
    "df['Sentiment Class'].value_counts(normalize=True).plot(kind='bar')\n",
    "plt.title('South Africa Loadshedding Reviews in Germeny News Articles')\n",
    "\n",
    "plt.show()"
   ]
  },
  {
   "cell_type": "code",
   "execution_count": null,
   "metadata": {
    "colab": {
     "base_uri": "https://localhost:8080/",
     "height": 373
    },
    "id": "U42G37LNylRk",
    "outputId": "382328b3-de5b-47aa-e4da-36831b4b30bb"
   },
   "outputs": [
    {
     "data": {
      "image/png": "[encoded data removed]",
      "text/plain": [
       "<Figure size 432x432 with 1 Axes>"
      ]
     },
     "metadata": {},
     "output_type": "display_data"
    }
   ],
   "source": [
    "df['Sentiment Class'].value_counts(normalize=True).plot(kind='pie', title='South Africa Loadshedding reviews', legend=True, fontsize=12, autopct='%1.1f%%', figsize=(6, 6), startangle=90, shadow=True, labels=df['Sentiment Class'].value_counts().index)\n",
    "\n",
    "plt.ylabel('')\n",
    "\n",
    "plt.show()"
   ]
  },
  {
   "cell_type": "markdown",
   "metadata": {},
   "source": [
    "##### This data trans shows that 75% Articles Written by South African Loadshedding Are Neutral and 25% are Negative, There no Postive Reviews this is concerning it shows the Views of south african Loadshedding on Investors are Empected negatively but theres hope nore of this trands Shows some Neutrality."
   ]
  },
  {
   "cell_type": "code",
   "execution_count": null,
   "metadata": {},
   "outputs": [],
   "source": []
  }
 ],
 "metadata": {
  "colab": {
   "provenance": []
  },
  "kernelspec": {
   "display_name": "Python 3 (ipykernel)",
   "language": "python",
   "name": "python3"
  },
  "language_info": {
   "codemirror_mode": {
    "name": "ipython",
    "version": 3
   },
   "file_extension": ".py",
   "mimetype": "text/x-python",
   "name": "python",
   "nbconvert_exporter": "python",
   "pygments_lexer": "ipython3",
   "version": "3.9.12"
  }
 },
 "nbformat": 4,
 "nbformat_minor": 1
}
